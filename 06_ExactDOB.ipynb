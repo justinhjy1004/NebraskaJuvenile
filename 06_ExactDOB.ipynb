{
 "cells": [
  {
   "cell_type": "code",
   "execution_count": 1,
   "metadata": {},
   "outputs": [],
   "source": [
    "import polars as pl\n",
    "import os\n",
    "from selenium import webdriver\n",
    "from selenium.webdriver.common.by import By\n",
    "from bs4 import BeautifulSoup\n",
    "import re\n",
    "import sqlite3\n",
    "\n",
    "timeout_time = 3600\n",
    "\n",
    "## Conncect to database\n",
    "con = sqlite3.connect(os.environ[\"database_name\"])\n",
    "cur = con.cursor()"
   ]
  },
  {
   "cell_type": "code",
   "execution_count": 2,
   "metadata": {},
   "outputs": [],
   "source": [
    "df = pl.read_database_uri(\"SELECT * FROM CaseBasicInfo WHERE Type = \\'JUV\\' AND ExactDOB IS NULL\", os.environ[\"database\"])"
   ]
  },
  {
   "cell_type": "code",
   "execution_count": 3,
   "metadata": {},
   "outputs": [
    {
     "data": {
      "text/plain": [
       "<bound method DataFrame.describe of shape: (12_696, 5)\n",
       "┌─────────────────────┬──────┬─────────────┬────────────────────┬──────────┐\n",
       "│ Person              ┆ Type ┆ YearOfBirth ┆ CaseID             ┆ ExactDOB │\n",
       "│ ---                 ┆ ---  ┆ ---         ┆ ---                ┆ ---      │\n",
       "│ str                 ┆ str  ┆ i64         ┆ str                ┆ str      │\n",
       "╞═════════════════════╪══════╪═════════════╪════════════════════╪══════════╡\n",
       "│ HERNANDEZ,DANIEL,JR ┆ JUV  ┆ 2014        ┆ D 59 JV 14 0000434 ┆ null     │\n",
       "│ ROBINSON,SHIESHA    ┆ JUV  ┆ 1998        ┆ D 01 JV 14 0001708 ┆ null     │\n",
       "│ HALL,SHELIA         ┆ JUV  ┆ 1999        ┆ D 01 JV 14 0001708 ┆ null     │\n",
       "│ BROWN,SHELIA        ┆ JUV  ┆ 1999        ┆ D 01 JV 14 0001708 ┆ null     │\n",
       "│ …                   ┆ …    ┆ …           ┆ …                  ┆ …        │\n",
       "│ ANDREWS,JOY         ┆ JUV  ┆ 1992        ┆ D 01 JV 10 9048750 ┆ null     │\n",
       "│ BRITTENHAM,CHELSEA  ┆ JUV  ┆ 1991        ┆ D 01 JV 10 9048748 ┆ null     │\n",
       "│ HILL,JOHN,K         ┆ JUV  ┆ 1989        ┆ D 01 JV 10 9048747 ┆ null     │\n",
       "│ MATTEA,JOSHUA       ┆ JUV  ┆ 1989        ┆ D 01 JV 10 9048746 ┆ null     │\n",
       "└─────────────────────┴──────┴─────────────┴────────────────────┴──────────┘>"
      ]
     },
     "execution_count": 3,
     "metadata": {},
     "output_type": "execute_result"
    }
   ],
   "source": [
    "df.describe"
   ]
  },
  {
   "cell_type": "code",
   "execution_count": 4,
   "metadata": {},
   "outputs": [],
   "source": [
    "cService = webdriver.ChromeService(executable_path=os.environ[\"chromedriver\"])\n",
    "browser = webdriver.Chrome(service = cService)\n",
    "browser.command_executor._client_config._timeout = timeout_time\n",
    "\n",
    "for name in df[\"Person\"]:\n",
    "\n",
    "    browser.get(os.environ[\"url\"])\n",
    "\n",
    "    browser.find_element(By.ID, \"party_name\").send_keys(name)\n",
    "    browser.find_element(By.CSS_SELECTOR, \"button.btn.btn-primary[name='submit_hidden']\").click()\n",
    "\n",
    "    # Parse the HTML\n",
    "    soup = BeautifulSoup(browser.page_source, 'html.parser')\n",
    "    # Extract all DOB instances using a regex\n",
    "\n",
    "    # This regex looks for \"DOB:\" followed by a date in MM/DD/YYYY format\n",
    "    dob_pattern = r'DOB:\\s*\\d{2}/\\d{2}/\\d{4}'\n",
    "    dob_matches = list(set(re.findall(dob_pattern, soup.get_text())))\n",
    "\n",
    "    dob_matches = '; '.join(dob_matches)\n",
    "\n",
    "    cur.execute(f\"\"\"\n",
    "            UPDATE CaseBasicInfo\n",
    "            SET ExactDOB = \\\"{dob_matches}\\\"\n",
    "            WHERE Person = \\\"{name}\\\" AND Type = \\'JUV\\'\n",
    "        \"\"\")\n",
    "    \n",
    "    con.commit()\n",
    "\n",
    "browser.close()"
   ]
  }
 ],
 "metadata": {
  "kernelspec": {
   "display_name": "Python 3",
   "language": "python",
   "name": "python3"
  },
  "language_info": {
   "codemirror_mode": {
    "name": "ipython",
    "version": 3
   },
   "file_extension": ".py",
   "mimetype": "text/x-python",
   "name": "python",
   "nbconvert_exporter": "python",
   "pygments_lexer": "ipython3",
   "version": "3.9.6"
  }
 },
 "nbformat": 4,
 "nbformat_minor": 2
}
