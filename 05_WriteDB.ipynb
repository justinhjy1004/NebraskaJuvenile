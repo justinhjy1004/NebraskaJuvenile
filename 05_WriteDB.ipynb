{
 "cells": [
  {
   "cell_type": "code",
   "execution_count": 1,
   "metadata": {},
   "outputs": [],
   "source": [
    "import polars as pl\n",
    "from extract_functions import parse_cases, parse_offenses, parse_parties, parse_events_from_pre\n",
    "import os"
   ]
  },
  {
   "cell_type": "code",
   "execution_count": 2,
   "metadata": {},
   "outputs": [],
   "source": [
    "df = pl.read_database_uri(\"SELECT DISTINCT * FROM CaseVerbatim\", os.environ[\"database\"])"
   ]
  },
  {
   "cell_type": "code",
   "execution_count": 3,
   "metadata": {},
   "outputs": [],
   "source": [
    "parsed_cases = parse_cases(df[\"CaseSummary\"].to_list())"
   ]
  },
  {
   "cell_type": "code",
   "execution_count": 4,
   "metadata": {},
   "outputs": [],
   "source": [
    "case_information = pl.DataFrame({\"CaseID\": df[\"CaseID\"].to_list(), \"CaseInfo\": parsed_cases})\n",
    "case_information = case_information.unnest(\"CaseInfo\")"
   ]
  },
  {
   "cell_type": "code",
   "execution_count": 5,
   "metadata": {},
   "outputs": [],
   "source": [
    "case_information = case_information.drop(\"case_id\")\n",
    "\n",
    "case_information.columns = [\n",
    " 'CaseID',\n",
    " 'County',\n",
    " 'DocketNumber',\n",
    " 'DefendantName',\n",
    " 'DefendantType',\n",
    " 'Judge',\n",
    " 'Classification',\n",
    " 'FiledDate',\n",
    " 'TerminationDate']"
   ]
  },
  {
   "cell_type": "code",
   "execution_count": 6,
   "metadata": {},
   "outputs": [],
   "source": [
    "case_information = case_information.with_columns(\n",
    "    pl.col(\"County\").map_elements(lambda x: x[0] + x[1:].lower() if x != \"\" else x)\n",
    ")"
   ]
  },
  {
   "cell_type": "code",
   "execution_count": 7,
   "metadata": {},
   "outputs": [],
   "source": [
    "case_information.write_database(\"CaseInformation\", os.environ[\"database\"].replace(\"//\", \"///\"), if_exists=\"replace\")"
   ]
  },
  {
   "cell_type": "code",
   "execution_count": 8,
   "metadata": {},
   "outputs": [],
   "source": [
    "parsed_parties = parse_parties(df[\"Parties\"].to_list())\n",
    "parsed_offenses = parse_offenses(df[\"OffenseInformation\"].to_list())\n",
    "parsed_actions = [parse_events_from_pre(i) for i in df[\"RegisterOfActions\"].to_list()]"
   ]
  },
  {
   "cell_type": "code",
   "execution_count": 9,
   "metadata": {},
   "outputs": [],
   "source": [
    "parties = pl.DataFrame({\"CaseID\": df[\"CaseID\"].to_list(), \"Parties\": parsed_parties})\n",
    "parties = parties.explode(\"Parties\").unnest(\"Parties\")\n",
    "\n",
    "parties = parties.with_columns(\n",
    "    pl.col(\"address_lines\").map_elements(lambda x: \", \".join(x)).alias(\"Address\")\n",
    ")\n",
    "\n",
    "parties = parties.select([\"CaseID\", \"role\", \"status\", \"name\", \"attorney_name\", \"Address\"])\n",
    "parties.columns = [\"CaseID\", \"Role\", \"Status\", \"Name\", \"AttorneyName\", \"Address\"]\n",
    "parties.write_database(\"Parties\", os.environ[\"database\"].replace(\"//\", \"///\"), if_exists = \"replace\")"
   ]
  },
  {
   "cell_type": "code",
   "execution_count": 10,
   "metadata": {},
   "outputs": [],
   "source": [
    "offenses = pl.DataFrame({\"CaseID\": df[\"CaseID\"].to_list(), \"Offenses\": parsed_offenses})\n",
    "offenses = offenses.explode(\"Offenses\").unnest(\"Offenses\")"
   ]
  },
  {
   "cell_type": "code",
   "execution_count": 11,
   "metadata": {},
   "outputs": [],
   "source": [
    "offenses = offenses.drop_nulls(subset=[\"count\",\"charge\"])\n",
    "offenses = offenses.select(['CaseID','count','charge','offense_class','offense_date','plea'])"
   ]
  },
  {
   "cell_type": "code",
   "execution_count": 12,
   "metadata": {},
   "outputs": [],
   "source": [
    "offenses = offenses.with_columns(\n",
    "    pl.col(\"count\").cast(pl.Int64)\n",
    ")\n",
    "offenses.columns = ['CaseID','Count','Charge','OffenseClass','OffenseDate','Plea']"
   ]
  },
  {
   "cell_type": "code",
   "execution_count": 13,
   "metadata": {},
   "outputs": [],
   "source": [
    "offenses.write_database(\"Offenses\", os.environ[\"database\"].replace(\"//\", \"///\"), if_exists = \"replace\")"
   ]
  },
  {
   "cell_type": "code",
   "execution_count": 14,
   "metadata": {},
   "outputs": [],
   "source": [
    "actions = pl.DataFrame({\"CaseID\": df[\"CaseID\"].to_list(), \"actions\": parsed_actions})\n",
    "actions = actions.explode(\"actions\").unnest(\"actions\")"
   ]
  },
  {
   "cell_type": "code",
   "execution_count": 15,
   "metadata": {},
   "outputs": [],
   "source": [
    "actions = actions.select([\"CaseID\", \"date\", \"event_type\", \"initiated_by\", \"links\"])"
   ]
  },
  {
   "cell_type": "code",
   "execution_count": 16,
   "metadata": {},
   "outputs": [],
   "source": [
    "actions = actions.with_columns(\n",
    "    pl.col(\"links\").map_elements(lambda x: x[0] if len(x) == 1 else \"\")\n",
    ")"
   ]
  },
  {
   "cell_type": "code",
   "execution_count": 17,
   "metadata": {},
   "outputs": [],
   "source": [
    "actions.columns = [\"CaseID\", \"Date\", \"ActionType\", \"InitiatedBy\", \"Link\"]"
   ]
  },
  {
   "cell_type": "code",
   "execution_count": 18,
   "metadata": {},
   "outputs": [],
   "source": [
    "actions.write_database(\"Actions\", os.environ[\"database\"].replace(\"//\", \"///\"), if_exists = \"replace\")"
   ]
  },
  {
   "cell_type": "code",
   "execution_count": null,
   "metadata": {},
   "outputs": [],
   "source": []
  }
 ],
 "metadata": {
  "kernelspec": {
   "display_name": "Python 3",
   "language": "python",
   "name": "python3"
  },
  "language_info": {
   "codemirror_mode": {
    "name": "ipython",
    "version": 3
   },
   "file_extension": ".py",
   "mimetype": "text/x-python",
   "name": "python",
   "nbconvert_exporter": "python",
   "pygments_lexer": "ipython3",
   "version": "3.9.6"
  }
 },
 "nbformat": 4,
 "nbformat_minor": 2
}
