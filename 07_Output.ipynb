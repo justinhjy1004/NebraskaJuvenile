{
 "cells": [
  {
   "cell_type": "code",
   "execution_count": 1,
   "metadata": {},
   "outputs": [],
   "source": [
    "import polars as pl\n",
    "import os\n",
    "\n",
    "from fuzzywuzzy import fuzz\n",
    "\n",
    "def fuzzy_match_ratio(s1: str, s2: str) -> int:\n",
    "\n",
    "    if type(s1) != str or type(s2) != str:\n",
    "        return -1\n",
    "    \n",
    "    # Normalize both strings to lower case for a case-insensitive match.\n",
    "    s1, s2 = s1.lower(), s2.lower()\n",
    "    # Calculate and return the fuzzy match ratio.\n",
    "    return fuzz.ratio(s1, s2)\n"
   ]
  },
  {
   "cell_type": "code",
   "execution_count": 2,
   "metadata": {},
   "outputs": [],
   "source": [
    "juvenile_case_mapping = {\n",
    "    'Juvenile-Felony': 'Felony',\n",
    "    'Juvenile-Misdemeanor/Infraction': 'Misdemeanor',\n",
    "    'Juvenile-Traffic Offense': 'Traffic Offense',\n",
    "    \n",
    "    'Juvenile-Status Offender': 'Status',\n",
    "    \n",
    "    'Juvenile-Abandoned': 'Dependency',\n",
    "    'Juvenile-Abused': 'Dependency',\n",
    "    'Juvenile-Neglected': 'Dependency',\n",
    "    'Juvenile-Parental Jurisdiction': 'Dependency',\n",
    "    'Juvenile-Paternity Determination': 'Dependency',\n",
    "    'Juvenile-Guard Disruptd/Terminatd-P2013': 'Dependency',\n",
    "    'Juvenile-Guardianship Disruptd/Terminatd': 'Dependency',\n",
    "    'Juvenile-Homeless/Destitute/No Fault': 'Dependency',\n",
    "    'Juvenile-Termination': 'Dependency',\n",
    "    'Juvenile-Termination/Divorce-P2013': 'Dependency',\n",
    "    'Juvenile-Voluntary Relinquishment': 'Dependency',\n",
    "    'Juvenile-Voluntary Relinquishment-P2013': 'Dependency',\n",
    "\n",
    "    # Cases that may be administrative but likely fall under Dependency\n",
    "    'Juvenile-Interstate Compact-Holding Stat': 'Dependency',  \n",
    "    'Juvenile-Migrated Cases - Douglas ONLY': 'Dependency'  \n",
    "}\n"
   ]
  },
  {
   "cell_type": "code",
   "execution_count": 3,
   "metadata": {},
   "outputs": [],
   "source": [
    "df = pl.read_database_uri(\"SELECT * FROM CaseInformation\", os.environ[\"database\"])"
   ]
  },
  {
   "cell_type": "code",
   "execution_count": 5,
   "metadata": {},
   "outputs": [],
   "source": [
    "df = df.filter( pl.col(\"FiledDate\") != \"\").with_columns(\n",
    "    pl.col(\"FiledDate\").map_elements(lambda x: x[-4:]).alias(\"Year\").cast(pl.Int64),\n",
    "    pl.col(\"Classification\").replace(juvenile_case_mapping)\n",
    ").filter( pl.col(\"Year\") > 2009).unique().filter( pl.col(\"Classification\") != \"Dependency\" )"
   ]
  },
  {
   "cell_type": "code",
   "execution_count": 6,
   "metadata": {},
   "outputs": [],
   "source": [
    "df_bi = pl.read_database_uri(\"SELECT * FROM CaseBasicInfo\", os.environ[\"database\"])"
   ]
  },
  {
   "cell_type": "code",
   "execution_count": 7,
   "metadata": {},
   "outputs": [],
   "source": [
    "df_bi = df_bi.filter( pl.col(\"Type\") == \"JUV\" ).select([\"CaseID\", \"YearOfBirth\", \"Person\"]).unique().with_columns(\n",
    "    pl.col(\"Person\").map_elements(lambda x: x.split(\",\")[0]).alias(\"LastName\"),\n",
    "    pl.col(\"Person\").map_elements(lambda x: x.split(\",\")[1] if len(x.split(\",\")) > 1 else \"\").alias(\"FirstName\")\n",
    ").with_columns(\n",
    "    pl.struct([\"FirstName\", \"LastName\"]).map_elements(lambda x: x[\"FirstName\"] + \" \" + x[\"LastName\"]).alias(\"Name\")\n",
    ").drop([\"Person\", \"FirstName\", \"LastName\"])"
   ]
  },
  {
   "cell_type": "code",
   "execution_count": 8,
   "metadata": {},
   "outputs": [],
   "source": [
    "df_case_info = df.join(df_bi, on = \"CaseID\", how = \"left\").with_columns(\n",
    "    pl.struct([\"DefendantName\", \"Name\"]).map_elements(lambda x: fuzzy_match_ratio(x[\"DefendantName\"], x[\"Name\"])).alias(\"MatchScore\")\n",
    ").sort( by = \"MatchScore\", descending=True ).unique(subset=[\"CaseID\"], keep=\"first\").with_columns(\n",
    "    pl.struct([\"DefendantName\", \"Name\"]).map_elements(lambda x: x[\"Name\"] if x[\"DefendantName\"] == \"\" else x[\"DefendantName\"]).alias(\"DefendantName\")\n",
    ").drop([\"Name\", \"MatchScore\"])"
   ]
  },
  {
   "cell_type": "code",
   "execution_count": 9,
   "metadata": {},
   "outputs": [],
   "source": [
    "df_case_info = df_case_info.with_columns(\n",
    "    pl.struct([\"Year\", \"YearOfBirth\"]).map_elements(lambda x: x[\"Year\"] - x[\"YearOfBirth\"] if type(x[\"YearOfBirth\"]) is int and type(x[\"Year\"]) is int else None).alias(\"Age\")\n",
    ").drop(\"DefendantType\")"
   ]
  },
  {
   "cell_type": "code",
   "execution_count": 10,
   "metadata": {},
   "outputs": [],
   "source": [
    "df_case_info.write_csv(\"./Data/JuvenileCaseInfo.csv\")"
   ]
  },
  {
   "cell_type": "code",
   "execution_count": null,
   "metadata": {},
   "outputs": [],
   "source": [
    "df_parties = pl.read_database_uri(\"SELECT * FROM Parties\", os.environ[\"database\"])\n",
    "df_parties = df_parties.filter( pl.col(\"CaseID\").is_in(df_case_info[\"CaseID\"])).drop_nulls(subset = [\"Role\"]).drop(\"AttorneyName\")\n",
    "df_parties.write_csv(\"./Data/JuvenileInvolvedParties.csv\")"
   ]
  },
  {
   "cell_type": "code",
   "execution_count": null,
   "metadata": {},
   "outputs": [],
   "source": [
    "df_offenses = pl.read_database_uri(\"SELECT * FROM Offenses\", os.environ[\"database\"])\n",
    "df_offenses = df_offenses.filter( pl.col(\"CaseID\").is_in(df_case_info[\"CaseID\"]) )\n",
    "df_offenses.write_csv(\"./Data/JuvenileOffenses.csv\")"
   ]
  }
 ],
 "metadata": {
  "kernelspec": {
   "display_name": "Python 3",
   "language": "python",
   "name": "python3"
  },
  "language_info": {
   "codemirror_mode": {
    "name": "ipython",
    "version": 3
   },
   "file_extension": ".py",
   "mimetype": "text/x-python",
   "name": "python",
   "nbconvert_exporter": "python",
   "pygments_lexer": "ipython3",
   "version": "3.9.6"
  }
 },
 "nbformat": 4,
 "nbformat_minor": 2
}
