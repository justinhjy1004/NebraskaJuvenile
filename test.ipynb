{
 "cells": [
  {
   "cell_type": "code",
   "execution_count": 5,
   "id": "eb6503e5",
   "metadata": {},
   "outputs": [],
   "source": [
    "import polars as pl\n",
    "from datetime import datetime\n"
   ]
  },
  {
   "cell_type": "code",
   "execution_count": 6,
   "id": "3603d79e",
   "metadata": {},
   "outputs": [],
   "source": [
    "df = pl.read_csv(\"./Data/JuvenileCaseInfo.csv\")"
   ]
  },
  {
   "cell_type": "code",
   "execution_count": 11,
   "id": "4d20eb81",
   "metadata": {},
   "outputs": [
    {
     "data": {
      "text/plain": [
       "['D 01 JV 24 0001745',\n",
       " 'D 01 JV 24 0001742',\n",
       " 'D 01 JV 24 0001743',\n",
       " 'D 01 JV 24 0001740',\n",
       " 'D 01 JV 24 0001736']"
      ]
     },
     "execution_count": 11,
     "metadata": {},
     "output_type": "execute_result"
    }
   ],
   "source": [
    "df.with_columns(\n",
    "    pl.col(\"FiledDate\").map_elements(lambda x: datetime.strptime(x, \"%m/%d/%Y\"))\n",
    ").sort(by = \"FiledDate\", descending=True).filter( pl.col(\"County\") == \"Douglas\" ).select([\"CaseID\", \"FiledDate\"])[\"CaseID\"].to_list()[:5]"
   ]
  },
  {
   "cell_type": "code",
   "execution_count": null,
   "id": "38befe51",
   "metadata": {},
   "outputs": [],
   "source": []
  }
 ],
 "metadata": {
  "kernelspec": {
   "display_name": "Python 3",
   "language": "python",
   "name": "python3"
  },
  "language_info": {
   "codemirror_mode": {
    "name": "ipython",
    "version": 3
   },
   "file_extension": ".py",
   "mimetype": "text/x-python",
   "name": "python",
   "nbconvert_exporter": "python",
   "pygments_lexer": "ipython3",
   "version": "3.9.6"
  }
 },
 "nbformat": 4,
 "nbformat_minor": 5
}
