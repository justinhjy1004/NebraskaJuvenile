{
 "cells": [
  {
   "cell_type": "code",
   "execution_count": 82,
   "id": "eb6503e5",
   "metadata": {},
   "outputs": [],
   "source": [
    "import os\n",
    "import polars as pl\n",
    "from dotenv import load_dotenv\n",
    "from datetime import date\n",
    "\n",
    "county_map = {\n",
    "        \"01\": \"Douglas\",\n",
    "        \"02\": \"Lancaster\",\n",
    "        \"59\": \"Sarpy\"\n",
    "    }\n",
    "\n",
    "up_to = 5\n",
    "\n",
    "today = date.today()\n",
    "\n",
    "load_dotenv()\n",
    "\n",
    "df = pl.read_database_uri(\"SELECT DISTINCT CaseID FROM CaseVerbatim WHERE CaseID LIKE '% JV 25 %'\", os.environ[\"database\"])"
   ]
  },
  {
   "cell_type": "code",
   "execution_count": 72,
   "id": "3e61c72a",
   "metadata": {},
   "outputs": [],
   "source": [
    "def parse_case_info(case_str, county_map = county_map):\n",
    "\n",
    "    parts = case_str.split()\n",
    "    county_code = parts[1]\n",
    "    year_suffix = parts[3]\n",
    "    case_number = parts[4]\n",
    "\n",
    "    year = 2000 + int(year_suffix)  # assuming all years are 2000+\n",
    "    county = county_map.get(county_code, \"Unknown\")\n",
    "\n",
    "    return {\n",
    "        \"CaseYear\": year,\n",
    "        \"County\": county,\n",
    "        \"CaseNumber\": case_number\n",
    "    }\n"
   ]
  },
  {
   "cell_type": "markdown",
   "id": "905a484b",
   "metadata": {},
   "source": [
    "TimeScraped\n",
    "CaseYear\n",
    "Docket\n",
    "CaseNumber\n",
    "County\n",
    "CaseCount"
   ]
  },
  {
   "cell_type": "code",
   "execution_count": 73,
   "id": "38befe51",
   "metadata": {},
   "outputs": [],
   "source": [
    "df = df.with_columns(\n",
    "    pl.col(\"CaseID\").map_elements(lambda x: open(\"./CaseRecords/\" + x + \".html\", mode = \"r\").read()).alias(\"Docket\"),\n",
    "    pl.col(\"CaseID\").map_elements(parse_case_info).alias(\"parsed\"),\n",
    "    pl.lit(date.today()).cast(pl.Datetime).alias(\"TimeScraped\")\n",
    ").unnest(\"parsed\")"
   ]
  },
  {
   "cell_type": "code",
   "execution_count": 74,
   "id": "216be040",
   "metadata": {},
   "outputs": [
    {
     "data": {
      "text/html": [
       "<div><style>\n",
       ".dataframe > thead > tr,\n",
       ".dataframe > tbody > tr {\n",
       "  text-align: right;\n",
       "  white-space: pre-wrap;\n",
       "}\n",
       "</style>\n",
       "<small>shape: (5, 6)</small><table border=\"1\" class=\"dataframe\"><thead><tr><th>CaseID</th><th>Docket</th><th>CaseYear</th><th>County</th><th>CaseNumber</th><th>TimeScraped</th></tr><tr><td>str</td><td>str</td><td>i64</td><td>str</td><td>str</td><td>datetime[μs]</td></tr></thead><tbody><tr><td>&quot;D 01 JV 25 000…</td><td>&quot;&lt;html lang=&quot;en…</td><td>2025</td><td>&quot;Douglas&quot;</td><td>&quot;0000454&quot;</td><td>2025-04-30 00:00:00</td></tr><tr><td>&quot;D 02 JV 25 000…</td><td>&quot;&lt;html lang=&quot;en…</td><td>2025</td><td>&quot;Lancaster&quot;</td><td>&quot;0000003&quot;</td><td>2025-04-30 00:00:00</td></tr><tr><td>&quot;D 02 JV 25 000…</td><td>&quot;&lt;html lang=&quot;en…</td><td>2025</td><td>&quot;Lancaster&quot;</td><td>&quot;0000092&quot;</td><td>2025-04-30 00:00:00</td></tr><tr><td>&quot;D 01 JV 25 000…</td><td>&quot;&lt;html lang=&quot;en…</td><td>2025</td><td>&quot;Douglas&quot;</td><td>&quot;0000360&quot;</td><td>2025-04-30 00:00:00</td></tr><tr><td>&quot;D 02 JV 25 000…</td><td>&quot;&lt;html lang=&quot;en…</td><td>2025</td><td>&quot;Lancaster&quot;</td><td>&quot;0000006&quot;</td><td>2025-04-30 00:00:00</td></tr></tbody></table></div>"
      ],
      "text/plain": [
       "shape: (5, 6)\n",
       "┌────────────────────┬──────────────────────────┬──────────┬───────────┬────────────┬──────────────┐\n",
       "│ CaseID             ┆ Docket                   ┆ CaseYear ┆ County    ┆ CaseNumber ┆ TimeScraped  │\n",
       "│ ---                ┆ ---                      ┆ ---      ┆ ---       ┆ ---        ┆ ---          │\n",
       "│ str                ┆ str                      ┆ i64      ┆ str       ┆ str        ┆ datetime[μs] │\n",
       "╞════════════════════╪══════════════════════════╪══════════╪═══════════╪════════════╪══════════════╡\n",
       "│ D 01 JV 25 0000454 ┆ <html lang=\"en\"          ┆ 2025     ┆ Douglas   ┆ 0000454    ┆ 2025-04-30   │\n",
       "│                    ┆ style=\"height: 1…        ┆          ┆           ┆            ┆ 00:00:00     │\n",
       "│ D 02 JV 25 0000003 ┆ <html lang=\"en\"><head>   ┆ 2025     ┆ Lancaster ┆ 0000003    ┆ 2025-04-30   │\n",
       "│                    ┆ \t\t<!-- Go…                 ┆          ┆           ┆            ┆ 00:00:00     │\n",
       "│ D 02 JV 25 0000092 ┆ <html lang=\"en\"><head>   ┆ 2025     ┆ Lancaster ┆ 0000092    ┆ 2025-04-30   │\n",
       "│                    ┆ \t\t<!-- Go…                 ┆          ┆           ┆            ┆ 00:00:00     │\n",
       "│ D 01 JV 25 0000360 ┆ <html lang=\"en\"          ┆ 2025     ┆ Douglas   ┆ 0000360    ┆ 2025-04-30   │\n",
       "│                    ┆ style=\"height: 1…        ┆          ┆           ┆            ┆ 00:00:00     │\n",
       "│ D 02 JV 25 0000006 ┆ <html lang=\"en\"><head>   ┆ 2025     ┆ Lancaster ┆ 0000006    ┆ 2025-04-30   │\n",
       "│                    ┆ \t\t<!-- Go…                 ┆          ┆           ┆            ┆ 00:00:00     │\n",
       "└────────────────────┴──────────────────────────┴──────────┴───────────┴────────────┴──────────────┘"
      ]
     },
     "execution_count": 74,
     "metadata": {},
     "output_type": "execute_result"
    }
   ],
   "source": [
    "df.head()"
   ]
  },
  {
   "cell_type": "code",
   "execution_count": 75,
   "id": "c02134f3",
   "metadata": {},
   "outputs": [
    {
     "data": {
      "text/plain": [
       "'D 01 JV 25 0000454'"
      ]
     },
     "execution_count": 75,
     "metadata": {},
     "output_type": "execute_result"
    }
   ],
   "source": [
    "df[\"CaseID\"][0]"
   ]
  },
  {
   "cell_type": "code",
   "execution_count": null,
   "id": "0d2a0074",
   "metadata": {},
   "outputs": [],
   "source": [
    "from pymongo import MongoClient\n",
    "\n",
    "# Format the URI\n",
    "uri = os.environ[\"mongodb_conn\"]\n",
    "\n",
    "# Connect to the client\n",
    "client = MongoClient(uri)\n",
    "\n",
    "# Access your database and collection\n",
    "db = client[\"JVCases\"]\n",
    "collection = db[\"Cases\"]"
   ]
  },
  {
   "cell_type": "code",
   "execution_count": 46,
   "id": "678572f0",
   "metadata": {},
   "outputs": [],
   "source": [
    "next_batch = []"
   ]
  },
  {
   "cell_type": "code",
   "execution_count": 80,
   "id": "2da060a8",
   "metadata": {},
   "outputs": [],
   "source": [
    "pipeline = [\n",
    "    {\n",
    "        \"$group\": {\n",
    "            \"_id\": {\"CaseYear\": \"$CaseYear\", \"County\": \"$County\"},\n",
    "            \"MaxCaseNumber\": {\"$max\": {\"$toInt\": \"$CaseNumber\"}}\n",
    "        }\n",
    "    }\n",
    "]\n",
    "\n",
    "checkpoints = list(collection.aggregate(pipeline))"
   ]
  },
  {
   "cell_type": "code",
   "execution_count": 81,
   "id": "b0eff8ac",
   "metadata": {},
   "outputs": [
    {
     "data": {
      "text/plain": [
       "[{'_id': {'CaseYear': 2025, 'County': 'Douglas'}, 'MaxCaseNumber': 487},\n",
       " {'_id': {'CaseYear': 2025, 'County': 'Lancaster'}, 'MaxCaseNumber': 358},\n",
       " {'_id': {'CaseYear': 2025, 'County': 'Sarpy'}, 'MaxCaseNumber': 185}]"
      ]
     },
     "execution_count": 81,
     "metadata": {},
     "output_type": "execute_result"
    }
   ],
   "source": [
    "checkpoints"
   ]
  },
  {
   "cell_type": "code",
   "execution_count": 57,
   "id": "d9c3e88f",
   "metadata": {},
   "outputs": [],
   "source": [
    "inv_map = {v: k for k, v in county_map.items()}\n",
    "\n",
    "next_batch = []\n",
    "for checkpoint in checkpoints:\n",
    "    year = str(checkpoint[\"_id\"][\"CaseYear\"] - 2000)\n",
    "    county = inv_map.get(checkpoint[\"_id\"][\"County\"])\n",
    "\n",
    "    new_casenums = [str(checkpoint[\"MaxCaseNumber\"] + i).zfill(7) for i in range(1, up_to)]\n",
    "    next_batch = next_batch + [\"D \" + county + \" JV \" + year + \" \" + n for n in new_casenums]"
   ]
  },
  {
   "cell_type": "code",
   "execution_count": 58,
   "id": "907c3099",
   "metadata": {},
   "outputs": [],
   "source": [
    "df_new = pl.DataFrame({\"CaseID\": next_batch})"
   ]
  },
  {
   "cell_type": "code",
   "execution_count": 59,
   "id": "9f980f49",
   "metadata": {},
   "outputs": [
    {
     "data": {
      "text/html": [
       "<div><style>\n",
       ".dataframe > thead > tr,\n",
       ".dataframe > tbody > tr {\n",
       "  text-align: right;\n",
       "  white-space: pre-wrap;\n",
       "}\n",
       "</style>\n",
       "<small>shape: (12, 1)</small><table border=\"1\" class=\"dataframe\"><thead><tr><th>CaseID</th></tr><tr><td>str</td></tr></thead><tbody><tr><td>&quot;D 01 JV 25 000…</td></tr><tr><td>&quot;D 01 JV 25 000…</td></tr><tr><td>&quot;D 01 JV 25 000…</td></tr><tr><td>&quot;D 01 JV 25 000…</td></tr><tr><td>&quot;D 02 JV 25 000…</td></tr><tr><td>&quot;D 02 JV 25 000…</td></tr><tr><td>&quot;D 02 JV 25 000…</td></tr><tr><td>&quot;D 02 JV 25 000…</td></tr><tr><td>&quot;D 59 JV 25 000…</td></tr><tr><td>&quot;D 59 JV 25 000…</td></tr><tr><td>&quot;D 59 JV 25 000…</td></tr><tr><td>&quot;D 59 JV 25 000…</td></tr></tbody></table></div>"
      ],
      "text/plain": [
       "shape: (12, 1)\n",
       "┌────────────────────┐\n",
       "│ CaseID             │\n",
       "│ ---                │\n",
       "│ str                │\n",
       "╞════════════════════╡\n",
       "│ D 01 JV 25 0000478 │\n",
       "│ D 01 JV 25 0000479 │\n",
       "│ D 01 JV 25 0000480 │\n",
       "│ D 01 JV 25 0000481 │\n",
       "│ …                  │\n",
       "│ D 59 JV 25 0000176 │\n",
       "│ D 59 JV 25 0000177 │\n",
       "│ D 59 JV 25 0000178 │\n",
       "│ D 59 JV 25 0000179 │\n",
       "└────────────────────┘"
      ]
     },
     "execution_count": 59,
     "metadata": {},
     "output_type": "execute_result"
    }
   ],
   "source": [
    "df_new"
   ]
  },
  {
   "cell_type": "code",
   "execution_count": 60,
   "id": "40dc1d54",
   "metadata": {},
   "outputs": [
    {
     "data": {
      "text/html": [
       "<div><style>\n",
       ".dataframe > thead > tr,\n",
       ".dataframe > tbody > tr {\n",
       "  text-align: right;\n",
       "  white-space: pre-wrap;\n",
       "}\n",
       "</style>\n",
       "<small>shape: (12, 6)</small><table border=\"1\" class=\"dataframe\"><thead><tr><th>CaseID</th><th>CaseYear</th><th>County</th><th>CaseNumber</th><th>TimeScraped</th><th>Docket</th></tr><tr><td>str</td><td>i64</td><td>str</td><td>str</td><td>datetime[μs]</td><td>null</td></tr></thead><tbody><tr><td>&quot;D 01 JV 25 000…</td><td>2025</td><td>&quot;Douglas&quot;</td><td>&quot;0000478&quot;</td><td>2025-04-30 00:00:00</td><td>null</td></tr><tr><td>&quot;D 01 JV 25 000…</td><td>2025</td><td>&quot;Douglas&quot;</td><td>&quot;0000479&quot;</td><td>2025-04-30 00:00:00</td><td>null</td></tr><tr><td>&quot;D 01 JV 25 000…</td><td>2025</td><td>&quot;Douglas&quot;</td><td>&quot;0000480&quot;</td><td>2025-04-30 00:00:00</td><td>null</td></tr><tr><td>&quot;D 01 JV 25 000…</td><td>2025</td><td>&quot;Douglas&quot;</td><td>&quot;0000481&quot;</td><td>2025-04-30 00:00:00</td><td>null</td></tr><tr><td>&quot;D 02 JV 25 000…</td><td>2025</td><td>&quot;Lancaster&quot;</td><td>&quot;0000349&quot;</td><td>2025-04-30 00:00:00</td><td>null</td></tr><tr><td>&quot;D 02 JV 25 000…</td><td>2025</td><td>&quot;Lancaster&quot;</td><td>&quot;0000350&quot;</td><td>2025-04-30 00:00:00</td><td>null</td></tr><tr><td>&quot;D 02 JV 25 000…</td><td>2025</td><td>&quot;Lancaster&quot;</td><td>&quot;0000351&quot;</td><td>2025-04-30 00:00:00</td><td>null</td></tr><tr><td>&quot;D 02 JV 25 000…</td><td>2025</td><td>&quot;Lancaster&quot;</td><td>&quot;0000352&quot;</td><td>2025-04-30 00:00:00</td><td>null</td></tr><tr><td>&quot;D 59 JV 25 000…</td><td>2025</td><td>&quot;Sarpy&quot;</td><td>&quot;0000176&quot;</td><td>2025-04-30 00:00:00</td><td>null</td></tr><tr><td>&quot;D 59 JV 25 000…</td><td>2025</td><td>&quot;Sarpy&quot;</td><td>&quot;0000177&quot;</td><td>2025-04-30 00:00:00</td><td>null</td></tr><tr><td>&quot;D 59 JV 25 000…</td><td>2025</td><td>&quot;Sarpy&quot;</td><td>&quot;0000178&quot;</td><td>2025-04-30 00:00:00</td><td>null</td></tr><tr><td>&quot;D 59 JV 25 000…</td><td>2025</td><td>&quot;Sarpy&quot;</td><td>&quot;0000179&quot;</td><td>2025-04-30 00:00:00</td><td>null</td></tr></tbody></table></div>"
      ],
      "text/plain": [
       "shape: (12, 6)\n",
       "┌────────────────────┬──────────┬─────────┬────────────┬─────────────────────┬────────┐\n",
       "│ CaseID             ┆ CaseYear ┆ County  ┆ CaseNumber ┆ TimeScraped         ┆ Docket │\n",
       "│ ---                ┆ ---      ┆ ---     ┆ ---        ┆ ---                 ┆ ---    │\n",
       "│ str                ┆ i64      ┆ str     ┆ str        ┆ datetime[μs]        ┆ null   │\n",
       "╞════════════════════╪══════════╪═════════╪════════════╪═════════════════════╪════════╡\n",
       "│ D 01 JV 25 0000478 ┆ 2025     ┆ Douglas ┆ 0000478    ┆ 2025-04-30 00:00:00 ┆ null   │\n",
       "│ D 01 JV 25 0000479 ┆ 2025     ┆ Douglas ┆ 0000479    ┆ 2025-04-30 00:00:00 ┆ null   │\n",
       "│ D 01 JV 25 0000480 ┆ 2025     ┆ Douglas ┆ 0000480    ┆ 2025-04-30 00:00:00 ┆ null   │\n",
       "│ D 01 JV 25 0000481 ┆ 2025     ┆ Douglas ┆ 0000481    ┆ 2025-04-30 00:00:00 ┆ null   │\n",
       "│ …                  ┆ …        ┆ …       ┆ …          ┆ …                   ┆ …      │\n",
       "│ D 59 JV 25 0000176 ┆ 2025     ┆ Sarpy   ┆ 0000176    ┆ 2025-04-30 00:00:00 ┆ null   │\n",
       "│ D 59 JV 25 0000177 ┆ 2025     ┆ Sarpy   ┆ 0000177    ┆ 2025-04-30 00:00:00 ┆ null   │\n",
       "│ D 59 JV 25 0000178 ┆ 2025     ┆ Sarpy   ┆ 0000178    ┆ 2025-04-30 00:00:00 ┆ null   │\n",
       "│ D 59 JV 25 0000179 ┆ 2025     ┆ Sarpy   ┆ 0000179    ┆ 2025-04-30 00:00:00 ┆ null   │\n",
       "└────────────────────┴──────────┴─────────┴────────────┴─────────────────────┴────────┘"
      ]
     },
     "execution_count": 60,
     "metadata": {},
     "output_type": "execute_result"
    }
   ],
   "source": [
    "df_new.with_columns(\n",
    "    pl.col(\"CaseID\").map_elements(parse_case_info).alias(\"parsed\"),\n",
    "    pl.lit(date.today()).cast(pl.Datetime).alias(\"TimeScraped\"),\n",
    "    pl.lit(None).alias(\"Docket\")\n",
    ").unnest(\"parsed\")"
   ]
  },
  {
   "cell_type": "code",
   "execution_count": null,
   "id": "14645b93",
   "metadata": {},
   "outputs": [],
   "source": [
    "from playwright.async_api import async_playwright, TimeoutError\n",
    "import asyncio\n",
    "\n",
    "# If your timeout_time was in seconds, multiply by 1000 to get Playwright’s ms-based timeout\n",
    "timeout_ms = 60_000  # e.g. 60 seconds\n",
    "\n",
    "async def scrape_case(cases, url=os.environ[\"case_url\"]):\n",
    "    with async_playwright() as p:\n",
    "        # launch a headless Chromium; you can switch to firefox or webkit if desired\n",
    "        browser = await p.chromium.launch(headless=True)\n",
    "        context = await browser.new_context()\n",
    "        page = await context.new_page()\n",
    "\n",
    "        # apply timeouts globally on this page\n",
    "        await page.set_default_timeout(timeout_ms)\n",
    "        await page.set_default_navigation_timeout(timeout_ms)\n",
    "\n",
    "        for case in cases:\n",
    "            try:\n",
    "                # navigate\n",
    "                await page.goto(url)\n",
    "\n",
    "                # fill in the form fields\n",
    "                await page.select_option(\"#court_type\", \"D\")\n",
    "                await page.select_option(\"#county_num\", case[\"County\"])\n",
    "                await page.select_option(\"#case_type\", \"JV\")\n",
    "                await page.fill(\"#case_year\", case[\"CaseYear\"])\n",
    "                await page.fill(\"#case_id\", case[\"CaseNumber\"])\n",
    "\n",
    "                # submit\n",
    "                await page.click(\"#search\")\n",
    "\n",
    "                # wait until network is idle (no more than 2 connections for at least 500 ms)\n",
    "                await page.wait_for_load_state(\"networkidle\")\n",
    "\n",
    "                # grab the HTML and save\n",
    "                html = await page.content()\n",
    "                print(html)\n",
    "\n",
    "            except TimeoutError:\n",
    "                print(\"ERROR\")\n",
    "\n",
    "        # clean up\n",
    "        await context.close()\n",
    "        await browser.close()"
   ]
  },
  {
   "cell_type": "code",
   "execution_count": 69,
   "id": "7e25208a",
   "metadata": {},
   "outputs": [
    {
     "data": {
      "text/plain": [
       "[{'CaseID': 'D 01 JV 25 0000478'},\n",
       " {'CaseID': 'D 01 JV 25 0000479'},\n",
       " {'CaseID': 'D 01 JV 25 0000480'},\n",
       " {'CaseID': 'D 01 JV 25 0000481'},\n",
       " {'CaseID': 'D 02 JV 25 0000349'},\n",
       " {'CaseID': 'D 02 JV 25 0000350'},\n",
       " {'CaseID': 'D 02 JV 25 0000351'},\n",
       " {'CaseID': 'D 02 JV 25 0000352'},\n",
       " {'CaseID': 'D 59 JV 25 0000176'},\n",
       " {'CaseID': 'D 59 JV 25 0000177'},\n",
       " {'CaseID': 'D 59 JV 25 0000178'},\n",
       " {'CaseID': 'D 59 JV 25 0000179'}]"
      ]
     },
     "execution_count": 69,
     "metadata": {},
     "output_type": "execute_result"
    }
   ],
   "source": [
    "df_new.to_dicts()"
   ]
  },
  {
   "cell_type": "code",
   "execution_count": 70,
   "id": "9ed8781a",
   "metadata": {},
   "outputs": [
    {
     "ename": "RuntimeError",
     "evalue": "asyncio.run() cannot be called from a running event loop",
     "output_type": "error",
     "traceback": [
      "\u001b[0;31m---------------------------------------------------------------------------\u001b[0m",
      "\u001b[0;31mRuntimeError\u001b[0m                              Traceback (most recent call last)",
      "Cell \u001b[0;32mIn[70], line 1\u001b[0m\n\u001b[0;32m----> 1\u001b[0m \u001b[43masyncio\u001b[49m\u001b[38;5;241;43m.\u001b[39;49m\u001b[43mrun\u001b[49m\u001b[43m(\u001b[49m\u001b[43mscrape_case\u001b[49m\u001b[43m(\u001b[49m\u001b[43mdf_new\u001b[49m\u001b[38;5;241;43m.\u001b[39;49m\u001b[43mto_dicts\u001b[49m\u001b[43m(\u001b[49m\u001b[43m)\u001b[49m\u001b[43m)\u001b[49m\u001b[43m)\u001b[49m\n",
      "File \u001b[0;32m/Library/Developer/CommandLineTools/Library/Frameworks/Python3.framework/Versions/3.9/lib/python3.9/asyncio/runners.py:33\u001b[0m, in \u001b[0;36mrun\u001b[0;34m(main, debug)\u001b[0m\n\u001b[1;32m      9\u001b[0m \u001b[38;5;250m\u001b[39m\u001b[38;5;124;03m\"\"\"Execute the coroutine and return the result.\u001b[39;00m\n\u001b[1;32m     10\u001b[0m \n\u001b[1;32m     11\u001b[0m \u001b[38;5;124;03mThis function runs the passed coroutine, taking care of\u001b[39;00m\n\u001b[0;32m   (...)\u001b[0m\n\u001b[1;32m     30\u001b[0m \u001b[38;5;124;03m    asyncio.run(main())\u001b[39;00m\n\u001b[1;32m     31\u001b[0m \u001b[38;5;124;03m\"\"\"\u001b[39;00m\n\u001b[1;32m     32\u001b[0m \u001b[38;5;28;01mif\u001b[39;00m events\u001b[38;5;241m.\u001b[39m_get_running_loop() \u001b[38;5;129;01mis\u001b[39;00m \u001b[38;5;129;01mnot\u001b[39;00m \u001b[38;5;28;01mNone\u001b[39;00m:\n\u001b[0;32m---> 33\u001b[0m     \u001b[38;5;28;01mraise\u001b[39;00m \u001b[38;5;167;01mRuntimeError\u001b[39;00m(\n\u001b[1;32m     34\u001b[0m         \u001b[38;5;124m\"\u001b[39m\u001b[38;5;124masyncio.run() cannot be called from a running event loop\u001b[39m\u001b[38;5;124m\"\u001b[39m)\n\u001b[1;32m     36\u001b[0m \u001b[38;5;28;01mif\u001b[39;00m \u001b[38;5;129;01mnot\u001b[39;00m coroutines\u001b[38;5;241m.\u001b[39miscoroutine(main):\n\u001b[1;32m     37\u001b[0m     \u001b[38;5;28;01mraise\u001b[39;00m \u001b[38;5;167;01mValueError\u001b[39;00m(\u001b[38;5;124m\"\u001b[39m\u001b[38;5;124ma coroutine was expected, got \u001b[39m\u001b[38;5;132;01m{!r}\u001b[39;00m\u001b[38;5;124m\"\u001b[39m\u001b[38;5;241m.\u001b[39mformat(main))\n",
      "\u001b[0;31mRuntimeError\u001b[0m: asyncio.run() cannot be called from a running event loop"
     ]
    }
   ],
   "source": [
    "asyncio.run(scrape_case(df_new.to_dicts()))"
   ]
  },
  {
   "cell_type": "code",
   "execution_count": null,
   "id": "1364730b",
   "metadata": {},
   "outputs": [],
   "source": []
  }
 ],
 "metadata": {
  "kernelspec": {
   "display_name": "Python 3",
   "language": "python",
   "name": "python3"
  },
  "language_info": {
   "codemirror_mode": {
    "name": "ipython",
    "version": 3
   },
   "file_extension": ".py",
   "mimetype": "text/x-python",
   "name": "python",
   "nbconvert_exporter": "python",
   "pygments_lexer": "ipython3",
   "version": "3.9.6"
  }
 },
 "nbformat": 4,
 "nbformat_minor": 5
}
