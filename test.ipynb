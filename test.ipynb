{
 "cells": [
  {
   "cell_type": "code",
   "execution_count": 1,
   "metadata": {},
   "outputs": [],
   "source": [
    "import polars as pl\n",
    "import os"
   ]
  },
  {
   "cell_type": "code",
   "execution_count": 2,
   "metadata": {},
   "outputs": [],
   "source": [
    "juvenile_case_mapping = {\n",
    "    'Juvenile-Felony': 'Felony',\n",
    "    'Juvenile-Misdemeanor/Infraction': 'Misdemeanor',\n",
    "    'Juvenile-Traffic Offense': 'Traffic Offense',\n",
    "    \n",
    "    'Juvenile-Status Offender': 'Status',\n",
    "    \n",
    "    'Juvenile-Abandoned': 'Dependency',\n",
    "    'Juvenile-Abused': 'Dependency',\n",
    "    'Juvenile-Neglected': 'Dependency',\n",
    "    'Juvenile-Parental Jurisdiction': 'Dependency',\n",
    "    'Juvenile-Paternity Determination': 'Dependency',\n",
    "    'Juvenile-Guard Disruptd/Terminatd-P2013': 'Dependency',\n",
    "    'Juvenile-Guardianship Disruptd/Terminatd': 'Dependency',\n",
    "    'Juvenile-Homeless/Destitute/No Fault': 'Dependency',\n",
    "    'Juvenile-Termination': 'Dependency',\n",
    "    'Juvenile-Termination/Divorce-P2013': 'Dependency',\n",
    "    'Juvenile-Voluntary Relinquishment': 'Dependency',\n",
    "    'Juvenile-Voluntary Relinquishment-P2013': 'Dependency',\n",
    "\n",
    "    # Cases that may be administrative but likely fall under Dependency\n",
    "    'Juvenile-Interstate Compact-Holding Stat': 'Dependency',  \n",
    "    'Juvenile-Migrated Cases - Douglas ONLY': 'Dependency'  \n",
    "}\n"
   ]
  },
  {
   "cell_type": "code",
   "execution_count": 3,
   "metadata": {},
   "outputs": [],
   "source": [
    "df = pl.read_database_uri(\"SELECT * FROM CaseInformation\", os.environ[\"database\"])"
   ]
  },
  {
   "cell_type": "code",
   "execution_count": 37,
   "metadata": {},
   "outputs": [
    {
     "data": {
      "text/html": [
       "<div><style>\n",
       ".dataframe > thead > tr,\n",
       ".dataframe > tbody > tr {\n",
       "  text-align: right;\n",
       "  white-space: pre-wrap;\n",
       "}\n",
       "</style>\n",
       "<small>shape: (21_985, 10)</small><table border=\"1\" class=\"dataframe\"><thead><tr><th>CaseID</th><th>County</th><th>DocketNumber</th><th>DefendantName</th><th>DefendantType</th><th>Judge</th><th>Classification</th><th>FiledDate</th><th>TerminationDate</th><th>Year</th></tr><tr><td>str</td><td>str</td><td>str</td><td>str</td><td>str</td><td>str</td><td>str</td><td>str</td><td>str</td><td>i64</td></tr></thead><tbody><tr><td>&quot;D 01 JV 20 000…</td><td>&quot;Douglas&quot;</td><td>&quot;&quot;</td><td>&quot;Ariel Gordon&quot;</td><td>&quot;Juvenile&quot;</td><td>&quot;Amy Schuchman&quot;</td><td>&quot;Juvenile-Negle…</td><td>&quot;09/25/2020&quot;</td><td>&quot;09/29/2020&quot;</td><td>2020</td></tr><tr><td>&quot;D 01 JV 20 000…</td><td>&quot;Douglas&quot;</td><td>&quot;&quot;</td><td>&quot;Kaelani Sison&quot;</td><td>&quot;Juvenile&quot;</td><td>&quot;Vernon Daniels…</td><td>&quot;Juvenile-Negle…</td><td>&quot;09/25/2020&quot;</td><td>&quot;12/07/2023&quot;</td><td>2020</td></tr><tr><td>&quot;D 01 JV 20 000…</td><td>&quot;Douglas&quot;</td><td>&quot;&quot;</td><td>&quot;Belina Inda&quot;</td><td>&quot;Juvenile&quot;</td><td>&quot;Candice Novak&quot;</td><td>&quot;Juvenile-Negle…</td><td>&quot;09/25/2020&quot;</td><td>&quot;02/10/2022&quot;</td><td>2020</td></tr><tr><td>&quot;D 01 JV 20 000…</td><td>&quot;Douglas&quot;</td><td>&quot;&quot;</td><td>&quot;Cadance Saxon&quot;</td><td>&quot;Juvenile&quot;</td><td>&quot;Mary MZ Steven…</td><td>&quot;Juvenile-Homel…</td><td>&quot;09/23/2020&quot;</td><td>&quot;12/27/2023&quot;</td><td>2020</td></tr><tr><td>&quot;D 01 JV 20 000…</td><td>&quot;Douglas&quot;</td><td>&quot;&quot;</td><td>&quot;Sienna Volenti…</td><td>&quot;Juvenile&quot;</td><td>&quot;Matthew R Kahl…</td><td>&quot;Juvenile-Homel…</td><td>&quot;09/23/2020&quot;</td><td>&quot;02/04/2021&quot;</td><td>2020</td></tr><tr><td>&quot;D 01 JV 22 000…</td><td>&quot;Douglas&quot;</td><td>&quot;&quot;</td><td>&quot;Sydney-Rae Cor…</td><td>&quot;Juvenile&quot;</td><td>&quot;Amy Schuchman&quot;</td><td>&quot;Juvenile-Negle…</td><td>&quot;11/22/2022&quot;</td><td>&quot;&quot;</td><td>2022</td></tr><tr><td>&quot;D 01 JV 22 000…</td><td>&quot;Douglas&quot;</td><td>&quot;&quot;</td><td>&quot;Ares Rodriguez…</td><td>&quot;Juvenile&quot;</td><td>&quot;Vernon Daniels…</td><td>&quot;Juvenile-Negle…</td><td>&quot;11/21/2022&quot;</td><td>&quot;&quot;</td><td>2022</td></tr><tr><td>&quot;D 01 JV 22 000…</td><td>&quot;Douglas&quot;</td><td>&quot;&quot;</td><td>&quot;Kyro Wilson-Pu…</td><td>&quot;Juvenile&quot;</td><td>&quot;Candice Novak&quot;</td><td>&quot;Juvenile-Negle…</td><td>&quot;11/21/2022&quot;</td><td>&quot;03/21/2023&quot;</td><td>2022</td></tr><tr><td>&quot;D 01 JV 22 000…</td><td>&quot;Douglas&quot;</td><td>&quot;&quot;</td><td>&quot;Emmalina Escam…</td><td>&quot;Juvenile&quot;</td><td>&quot;Amy Schuchman&quot;</td><td>&quot;Juvenile-Misde…</td><td>&quot;11/18/2022&quot;</td><td>&quot;02/28/2024&quot;</td><td>2022</td></tr><tr><td>&quot;D 01 JV 15 000…</td><td>&quot;Douglas&quot;</td><td>&quot;&quot;</td><td>&quot;Kennah Swift&quot;</td><td>&quot;Juvenile&quot;</td><td>&quot;Wadie Thomas J…</td><td>&quot;Juvenile-Negle…</td><td>&quot;03/06/2015&quot;</td><td>&quot;06/09/2017&quot;</td><td>2015</td></tr><tr><td>&quot;D 01 JV 15 000…</td><td>&quot;Douglas&quot;</td><td>&quot;&quot;</td><td>&quot;Martaloni B Ru…</td><td>&quot;Juvenile&quot;</td><td>&quot;Wadie Thomas J…</td><td>&quot;Juvenile-Misde…</td><td>&quot;03/05/2015&quot;</td><td>&quot;05/18/2016&quot;</td><td>2015</td></tr><tr><td>&quot;D 01 JV 15 000…</td><td>&quot;Douglas&quot;</td><td>&quot;&quot;</td><td>&quot;Adonis William…</td><td>&quot;Juvenile&quot;</td><td>&quot;Douglas F John…</td><td>&quot;Juvenile-Misde…</td><td>&quot;03/05/2015&quot;</td><td>&quot;02/06/2018&quot;</td><td>2015</td></tr><tr><td>&hellip;</td><td>&hellip;</td><td>&hellip;</td><td>&hellip;</td><td>&hellip;</td><td>&hellip;</td><td>&hellip;</td><td>&hellip;</td><td>&hellip;</td><td>&hellip;</td></tr><tr><td>&quot;D 02 JV 16 000…</td><td>&quot;Lancaster&quot;</td><td>&quot;&quot;</td><td>&quot;Tressie Romano…</td><td>&quot;Juvenile&quot;</td><td>&quot;Toni Thorson&quot;</td><td>&quot;Juvenile-Negle…</td><td>&quot;03/24/2016&quot;</td><td>&quot;06/23/2016&quot;</td><td>2016</td></tr><tr><td>&quot;D 02 JV 16 000…</td><td>&quot;Lancaster&quot;</td><td>&quot;&quot;</td><td>&quot;Lochlainn Henr…</td><td>&quot;Juvenile&quot;</td><td>&quot;Roger J Heidem…</td><td>&quot;Juvenile-Negle…</td><td>&quot;03/23/2016&quot;</td><td>&quot;07/27/2016&quot;</td><td>2016</td></tr><tr><td>&quot;D 02 JV 16 000…</td><td>&quot;Lancaster&quot;</td><td>&quot;&quot;</td><td>&quot;Caleb D Leago&quot;</td><td>&quot;Juvenile&quot;</td><td>&quot;Reggie Ryder&quot;</td><td>&quot;Juvenile-Statu…</td><td>&quot;03/23/2016&quot;</td><td>&quot;12/27/2016&quot;</td><td>2016</td></tr><tr><td>&quot;D 02 JV 16 000…</td><td>&quot;Lancaster&quot;</td><td>&quot;&quot;</td><td>&quot;Dylan E Isaacs…</td><td>&quot;Juvenile&quot;</td><td>&quot;Linda Porter&quot;</td><td>&quot;Juvenile-Misde…</td><td>&quot;03/23/2016&quot;</td><td>&quot;07/19/2018&quot;</td><td>2016</td></tr><tr><td>&quot;D 01 JV 15 000…</td><td>&quot;Douglas&quot;</td><td>&quot;&quot;</td><td>&quot;Sirenity Curri…</td><td>&quot;Juvenile&quot;</td><td>&quot;Vernon Daniels…</td><td>&quot;Juvenile-Negle…</td><td>&quot;10/14/2015&quot;</td><td>&quot;08/23/2016&quot;</td><td>2015</td></tr><tr><td>&quot;D 01 JV 15 000…</td><td>&quot;Douglas&quot;</td><td>&quot;&quot;</td><td>&quot;Destiny Hallow…</td><td>&quot;Juvenile&quot;</td><td>&quot;Christopher Ke…</td><td>&quot;Juvenile-Negle…</td><td>&quot;10/14/2015&quot;</td><td>&quot;06/05/2019&quot;</td><td>2015</td></tr><tr><td>&quot;D 01 JV 15 000…</td><td>&quot;Douglas&quot;</td><td>&quot;&quot;</td><td>&quot;Matthias McKin…</td><td>&quot;Juvenile&quot;</td><td>&quot;Wadie Thomas J…</td><td>&quot;Juvenile-Negle…</td><td>&quot;10/14/2015&quot;</td><td>&quot;11/09/2017&quot;</td><td>2015</td></tr><tr><td>&quot;D 02 JV 15 000…</td><td>&quot;Lancaster&quot;</td><td>&quot;&quot;</td><td>&quot;Diego Ostiguin…</td><td>&quot;Juvenile&quot;</td><td>&quot;Reggie Ryder&quot;</td><td>&quot;Juvenile-Statu…</td><td>&quot;12/23/2015&quot;</td><td>&quot;07/25/2017&quot;</td><td>2015</td></tr><tr><td>&quot;D 02 JV 15 000…</td><td>&quot;Lancaster&quot;</td><td>&quot;&quot;</td><td>&quot;Isaac D Anno&quot;</td><td>&quot;Juvenile&quot;</td><td>&quot;Roger J Heidem…</td><td>&quot;Juvenile-Statu…</td><td>&quot;12/23/2015&quot;</td><td>&quot;12/18/2019&quot;</td><td>2015</td></tr><tr><td>&quot;D 02 JV 15 000…</td><td>&quot;Lancaster&quot;</td><td>&quot;&quot;</td><td>&quot;Aerionna Hinds…</td><td>&quot;Juvenile&quot;</td><td>&quot;Roger J Heidem…</td><td>&quot;Juvenile-Negle…</td><td>&quot;12/23/2015&quot;</td><td>&quot;04/18/2016&quot;</td><td>2015</td></tr><tr><td>&quot;D 02 JV 15 000…</td><td>&quot;Lancaster&quot;</td><td>&quot;&quot;</td><td>&quot;Sandra Claypoo…</td><td>&quot;Juvenile&quot;</td><td>&quot;Linda Porter&quot;</td><td>&quot;Juvenile-Misde…</td><td>&quot;12/23/2015&quot;</td><td>&quot;10/28/2016&quot;</td><td>2015</td></tr><tr><td>&quot;D 02 JV 15 000…</td><td>&quot;Lancaster&quot;</td><td>&quot;&quot;</td><td>&quot;Lendell G Harr…</td><td>&quot;Juvenile&quot;</td><td>&quot;Linda Porter&quot;</td><td>&quot;Juvenile-Misde…</td><td>&quot;12/23/2015&quot;</td><td>&quot;03/21/2017&quot;</td><td>2015</td></tr></tbody></table></div>"
      ],
      "text/plain": [
       "shape: (21_985, 10)\n",
       "┌────────────┬───────────┬────────────┬────────────┬───┬────────────┬───────────┬───────────┬──────┐\n",
       "│ CaseID     ┆ County    ┆ DocketNumb ┆ DefendantN ┆ … ┆ Classifica ┆ FiledDate ┆ Terminati ┆ Year │\n",
       "│ ---        ┆ ---       ┆ er         ┆ ame        ┆   ┆ tion       ┆ ---       ┆ onDate    ┆ ---  │\n",
       "│ str        ┆ str       ┆ ---        ┆ ---        ┆   ┆ ---        ┆ str       ┆ ---       ┆ i64  │\n",
       "│            ┆           ┆ str        ┆ str        ┆   ┆ str        ┆           ┆ str       ┆      │\n",
       "╞════════════╪═══════════╪════════════╪════════════╪═══╪════════════╪═══════════╪═══════════╪══════╡\n",
       "│ D 01 JV 20 ┆ Douglas   ┆            ┆ Ariel      ┆ … ┆ Juvenile-N ┆ 09/25/202 ┆ 09/29/202 ┆ 2020 │\n",
       "│ 0001033    ┆           ┆            ┆ Gordon     ┆   ┆ eglected   ┆ 0         ┆ 0         ┆      │\n",
       "│ D 01 JV 20 ┆ Douglas   ┆            ┆ Kaelani    ┆ … ┆ Juvenile-N ┆ 09/25/202 ┆ 12/07/202 ┆ 2020 │\n",
       "│ 0001032    ┆           ┆            ┆ Sison      ┆   ┆ eglected   ┆ 0         ┆ 3         ┆      │\n",
       "│ D 01 JV 20 ┆ Douglas   ┆            ┆ Belina     ┆ … ┆ Juvenile-N ┆ 09/25/202 ┆ 02/10/202 ┆ 2020 │\n",
       "│ 0001029    ┆           ┆            ┆ Inda       ┆   ┆ eglected   ┆ 0         ┆ 2         ┆      │\n",
       "│ D 01 JV 20 ┆ Douglas   ┆            ┆ Cadance    ┆ … ┆ Juvenile-H ┆ 09/23/202 ┆ 12/27/202 ┆ 2020 │\n",
       "│ 0001026    ┆           ┆            ┆ Saxon      ┆   ┆ omeless/De ┆ 0         ┆ 3         ┆      │\n",
       "│            ┆           ┆            ┆            ┆   ┆ stitute/No ┆           ┆           ┆      │\n",
       "│            ┆           ┆            ┆            ┆   ┆ F…         ┆           ┆           ┆      │\n",
       "│ …          ┆ …         ┆ …          ┆ …          ┆ … ┆ …          ┆ …         ┆ …         ┆ …    │\n",
       "│ D 02 JV 15 ┆ Lancaster ┆            ┆ Isaac D    ┆ … ┆ Juvenile-S ┆ 12/23/201 ┆ 12/18/201 ┆ 2015 │\n",
       "│ 0000992    ┆           ┆            ┆ Anno       ┆   ┆ tatus      ┆ 5         ┆ 9         ┆      │\n",
       "│            ┆           ┆            ┆            ┆   ┆ Offender   ┆           ┆           ┆      │\n",
       "│ D 02 JV 15 ┆ Lancaster ┆            ┆ Aerionna   ┆ … ┆ Juvenile-N ┆ 12/23/201 ┆ 04/18/201 ┆ 2015 │\n",
       "│ 0000991    ┆           ┆            ┆ Hinds      ┆   ┆ eglected   ┆ 5         ┆ 6         ┆      │\n",
       "│ D 02 JV 15 ┆ Lancaster ┆            ┆ Sandra     ┆ … ┆ Juvenile-M ┆ 12/23/201 ┆ 10/28/201 ┆ 2015 │\n",
       "│ 0000987    ┆           ┆            ┆ Claypool   ┆   ┆ isdemeanor ┆ 5         ┆ 6         ┆      │\n",
       "│            ┆           ┆            ┆            ┆   ┆ /Infractio ┆           ┆           ┆      │\n",
       "│            ┆           ┆            ┆            ┆   ┆ n          ┆           ┆           ┆      │\n",
       "│ D 02 JV 15 ┆ Lancaster ┆            ┆ Lendell G  ┆ … ┆ Juvenile-M ┆ 12/23/201 ┆ 03/21/201 ┆ 2015 │\n",
       "│ 0000985    ┆           ┆            ┆ Harris     ┆   ┆ isdemeanor ┆ 5         ┆ 7         ┆      │\n",
       "│            ┆           ┆            ┆            ┆   ┆ /Infractio ┆           ┆           ┆      │\n",
       "│            ┆           ┆            ┆            ┆   ┆ n          ┆           ┆           ┆      │\n",
       "└────────────┴───────────┴────────────┴────────────┴───┴────────────┴───────────┴───────────┴──────┘"
      ]
     },
     "execution_count": 37,
     "metadata": {},
     "output_type": "execute_result"
    }
   ],
   "source": [
    "df.filter( pl.col(\"FiledDate\") != \"\").with_columns(\n",
    "    pl.col(\"FiledDate\").map_elements(lambda x: x[-4:]).alias(\"Year\").cast(pl.Int64)\n",
    ").filter( pl.col(\"Year\") > 2009)"
   ]
  },
  {
   "cell_type": "code",
   "execution_count": 4,
   "metadata": {},
   "outputs": [],
   "source": [
    "df_bi = pl.read_database_uri(\"SELECT * FROM CaseBasicInfo\", os.environ[\"database\"])"
   ]
  },
  {
   "cell_type": "code",
   "execution_count": null,
   "metadata": {},
   "outputs": [],
   "source": [
    "df_bi = df_bi.filter( pl.col(\"Type\") == \"JUV\" )"
   ]
  },
  {
   "cell_type": "code",
   "execution_count": 19,
   "metadata": {},
   "outputs": [],
   "source": [
    "df_bi = df_bi.with_columns(\n",
    "    pl.col(\"ExactDOB\").map_elements(lambda x: [d for d in x.replace(\"DOB: \", \"\").split(\"; \")])\n",
    ").explode(\"ExactDOB\").with_columns(\n",
    "    pl.col(\"ExactDOB\").map_elements(lambda x: x[-4:] ).alias(\"BY\")\n",
    ")"
   ]
  },
  {
   "cell_type": "code",
   "execution_count": 22,
   "metadata": {},
   "outputs": [],
   "source": [
    "correct_bday = df_bi.filter( pl.col(\"BY\") != \"\" ).with_columns(\n",
    "    pl.col(\"BY\").cast(pl.Int64)\n",
    ").filter(pl.col(\"BY\") == pl.col(\"YearOfBirth\") )"
   ]
  },
  {
   "cell_type": "code",
   "execution_count": 28,
   "metadata": {},
   "outputs": [
    {
     "data": {
      "text/html": [
       "<div><style>\n",
       ".dataframe > thead > tr,\n",
       ".dataframe > tbody > tr {\n",
       "  text-align: right;\n",
       "  white-space: pre-wrap;\n",
       "}\n",
       "</style>\n",
       "<small>shape: (415, 2)</small><table border=\"1\" class=\"dataframe\"><thead><tr><th>Person</th><th>count</th></tr><tr><td>str</td><td>u32</td></tr></thead><tbody><tr><td>&quot;WIYUAL,WUOR&quot;</td><td>1</td></tr><tr><td>&quot;CROOK,RHIANNA&quot;</td><td>2</td></tr><tr><td>&quot;GAMBLE,KEIYARA…</td><td>1</td></tr><tr><td>&quot;PENN,ONYX,R&quot;</td><td>2</td></tr><tr><td>&quot;RUCKER,CYTAYA&quot;</td><td>1</td></tr><tr><td>&quot;GUSKO,YUKO,J&quot;</td><td>4</td></tr><tr><td>&quot;NIETO,XENIAH&quot;</td><td>2</td></tr><tr><td>&quot;WILLIAMS,JAVON…</td><td>1</td></tr><tr><td>&quot;NAGY,PATRICK&quot;</td><td>1</td></tr><tr><td>&quot;ROLLING,WAYNE&quot;</td><td>5</td></tr><tr><td>&quot;KOMETSCHER,MAR…</td><td>2</td></tr><tr><td>&quot;WHITEFACE,DIAM…</td><td>1</td></tr><tr><td>&hellip;</td><td>&hellip;</td></tr><tr><td>&quot;DEAN,SARAH&quot;</td><td>1</td></tr><tr><td>&quot;ROHL,AUSTIN&quot;</td><td>1</td></tr><tr><td>&quot;RICHARD,DEONTA…</td><td>2</td></tr><tr><td>&quot;JOHN,NIGHT&quot;</td><td>1</td></tr><tr><td>&quot;TORRES-WELLS,R…</td><td>1</td></tr><tr><td>&quot;WALKER,JUSTIN&quot;</td><td>1</td></tr><tr><td>&quot;VAN NOSTRAND,S…</td><td>1</td></tr><tr><td>&quot;GRIEGER-CAMPBE…</td><td>1</td></tr><tr><td>&quot;CLARK,LANICKA&quot;</td><td>1</td></tr><tr><td>&quot;BECKWITH,NAITH…</td><td>1</td></tr><tr><td>&quot;CHRISTIANSEN,A…</td><td>1</td></tr><tr><td>&quot;WESTON,ELIAD&quot;</td><td>1</td></tr></tbody></table></div>"
      ],
      "text/plain": [
       "shape: (415, 2)\n",
       "┌───────────────────────┬───────┐\n",
       "│ Person                ┆ count │\n",
       "│ ---                   ┆ ---   │\n",
       "│ str                   ┆ u32   │\n",
       "╞═══════════════════════╪═══════╡\n",
       "│ WIYUAL,WUOR           ┆ 1     │\n",
       "│ CROOK,RHIANNA         ┆ 2     │\n",
       "│ GAMBLE,KEIYARA,M      ┆ 1     │\n",
       "│ PENN,ONYX,R           ┆ 2     │\n",
       "│ …                     ┆ …     │\n",
       "│ CLARK,LANICKA         ┆ 1     │\n",
       "│ BECKWITH,NAITHAN      ┆ 1     │\n",
       "│ CHRISTIANSEN,ANDREW,D ┆ 1     │\n",
       "│ WESTON,ELIAD          ┆ 1     │\n",
       "└───────────────────────┴───────┘"
      ]
     },
     "execution_count": 28,
     "metadata": {},
     "output_type": "execute_result"
    }
   ],
   "source": [
    "correct_bday.filter(pl.col(\"BY\") > 1992).group_by([\"Person\"]).count()"
   ]
  },
  {
   "cell_type": "code",
   "execution_count": 20,
   "metadata": {},
   "outputs": [],
   "source": [
    "no_bday = df_bi.filter( pl.col(\"BY\") == \"\" )"
   ]
  },
  {
   "cell_type": "code",
   "execution_count": null,
   "metadata": {},
   "outputs": [],
   "source": [
    "df_bi"
   ]
  },
  {
   "cell_type": "code",
   "execution_count": 21,
   "metadata": {},
   "outputs": [
    {
     "data": {
      "text/html": [
       "<div><style>\n",
       ".dataframe > thead > tr,\n",
       ".dataframe > tbody > tr {\n",
       "  text-align: right;\n",
       "  white-space: pre-wrap;\n",
       "}\n",
       "</style>\n",
       "<small>shape: (91_015, 6)</small><table border=\"1\" class=\"dataframe\"><thead><tr><th>Person</th><th>Type</th><th>YearOfBirth</th><th>CaseID</th><th>ExactDOB</th><th>BY</th></tr><tr><td>str</td><td>str</td><td>i64</td><td>str</td><td>str</td><td>str</td></tr></thead><tbody><tr><td>&quot;SISON,KAELANI&quot;</td><td>&quot;JUV&quot;</td><td>2011</td><td>&quot;D 01 JV 20 000…</td><td>&quot;&quot;</td><td>&quot;&quot;</td></tr><tr><td>&quot;SISON,NALA&quot;</td><td>&quot;JUV&quot;</td><td>2013</td><td>&quot;D 01 JV 20 000…</td><td>&quot;&quot;</td><td>&quot;&quot;</td></tr><tr><td>&quot;INDA,BELINA&quot;</td><td>&quot;JUV&quot;</td><td>2014</td><td>&quot;D 01 JV 20 000…</td><td>&quot;&quot;</td><td>&quot;&quot;</td></tr><tr><td>&quot;GALVAN,NICCOLO…</td><td>&quot;JUV&quot;</td><td>2011</td><td>&quot;D 01 JV 20 000…</td><td>&quot;&quot;</td><td>&quot;&quot;</td></tr><tr><td>&quot;VOLENTINE,SIEN…</td><td>&quot;JUV&quot;</td><td>2006</td><td>&quot;D 01 JV 20 000…</td><td>&quot;&quot;</td><td>&quot;&quot;</td></tr><tr><td>&quot;POPPINGO,STEVE…</td><td>&quot;JUV&quot;</td><td>1987</td><td>&quot;D 01 JV 10 903…</td><td>&quot;&quot;</td><td>&quot;&quot;</td></tr><tr><td>&quot;LATHAN,DARRUS,…</td><td>&quot;JUV&quot;</td><td>2001</td><td>&quot;D 01 JV 10 903…</td><td>&quot;&quot;</td><td>&quot;&quot;</td></tr><tr><td>&quot;JACKSON,ANTHON…</td><td>&quot;JUV&quot;</td><td>1969</td><td>&quot;D 01 JV 10 901…</td><td>&quot;&quot;</td><td>&quot;&quot;</td></tr><tr><td>&quot;BLYTHE,CHAD,M&quot;</td><td>&quot;JUV&quot;</td><td>1969</td><td>&quot;D 01 JV 10 901…</td><td>&quot;&quot;</td><td>&quot;&quot;</td></tr><tr><td>&quot;KLEIN,TERRI,L&quot;</td><td>&quot;JUV&quot;</td><td>1970</td><td>&quot;D 01 JV 10 901…</td><td>&quot;&quot;</td><td>&quot;&quot;</td></tr><tr><td>&quot;HART,LAWRENCE …</td><td>&quot;JUV&quot;</td><td>1968</td><td>&quot;D 01 JV 10 901…</td><td>&quot;&quot;</td><td>&quot;&quot;</td></tr><tr><td>&quot;LEONARD,MARCUS…</td><td>&quot;JUV&quot;</td><td>1970</td><td>&quot;D 01 JV 10 901…</td><td>&quot;&quot;</td><td>&quot;&quot;</td></tr><tr><td>&hellip;</td><td>&hellip;</td><td>&hellip;</td><td>&hellip;</td><td>&hellip;</td><td>&hellip;</td></tr><tr><td>&quot;GELVIN,KENNETH…</td><td>&quot;JUV&quot;</td><td>1980</td><td>&quot;D 01 JV 10 900…</td><td>&quot;&quot;</td><td>&quot;&quot;</td></tr><tr><td>&quot;IRONHEART,THOM…</td><td>&quot;JUV&quot;</td><td>1983</td><td>&quot;D 01 JV 10 900…</td><td>&quot;&quot;</td><td>&quot;&quot;</td></tr><tr><td>&quot;WHITE,DARYL&quot;</td><td>&quot;JUV&quot;</td><td>1991</td><td>&quot;D 01 JV 10 904…</td><td>&quot;&quot;</td><td>&quot;&quot;</td></tr><tr><td>&quot;LINCOLN,ESAI&quot;</td><td>&quot;JUV&quot;</td><td>2006</td><td>&quot;D 01 JV 10 904…</td><td>&quot;&quot;</td><td>&quot;&quot;</td></tr><tr><td>&quot;NIETO,JHON&quot;</td><td>&quot;JUV&quot;</td><td>2008</td><td>&quot;D 01 JV 10 904…</td><td>&quot;&quot;</td><td>&quot;&quot;</td></tr><tr><td>&quot;ANDREWS,JOY&quot;</td><td>&quot;JUV&quot;</td><td>1992</td><td>&quot;D 01 JV 10 904…</td><td>&quot;&quot;</td><td>&quot;&quot;</td></tr><tr><td>&quot;TOLBERT,ASHA&quot;</td><td>&quot;JUV&quot;</td><td>1992</td><td>&quot;D 01 JV 10 904…</td><td>&quot;&quot;</td><td>&quot;&quot;</td></tr><tr><td>&quot;BRITTENHAM,CHE…</td><td>&quot;JUV&quot;</td><td>1991</td><td>&quot;D 01 JV 10 904…</td><td>&quot;&quot;</td><td>&quot;&quot;</td></tr><tr><td>&quot;HILL,JOHN,K&quot;</td><td>&quot;JUV&quot;</td><td>1989</td><td>&quot;D 01 JV 10 904…</td><td>&quot;&quot;</td><td>&quot;&quot;</td></tr><tr><td>&quot;MATTEA,JOSHUA&quot;</td><td>&quot;JUV&quot;</td><td>1989</td><td>&quot;D 01 JV 10 904…</td><td>&quot;&quot;</td><td>&quot;&quot;</td></tr><tr><td>&quot;ORANTES,EMERSO…</td><td>&quot;JUV&quot;</td><td>1992</td><td>&quot;D 01 JV 10 904…</td><td>&quot;&quot;</td><td>&quot;&quot;</td></tr><tr><td>&quot;HERNANDEZ,GUST…</td><td>&quot;JUV&quot;</td><td>1991</td><td>&quot;D 01 JV 10 904…</td><td>&quot;&quot;</td><td>&quot;&quot;</td></tr></tbody></table></div>"
      ],
      "text/plain": [
       "shape: (91_015, 6)\n",
       "┌───────────────────┬──────┬─────────────┬────────────────────┬──────────┬─────┐\n",
       "│ Person            ┆ Type ┆ YearOfBirth ┆ CaseID             ┆ ExactDOB ┆ BY  │\n",
       "│ ---               ┆ ---  ┆ ---         ┆ ---                ┆ ---      ┆ --- │\n",
       "│ str               ┆ str  ┆ i64         ┆ str                ┆ str      ┆ str │\n",
       "╞═══════════════════╪══════╪═════════════╪════════════════════╪══════════╪═════╡\n",
       "│ SISON,KAELANI     ┆ JUV  ┆ 2011        ┆ D 01 JV 20 0001032 ┆          ┆     │\n",
       "│ SISON,NALA        ┆ JUV  ┆ 2013        ┆ D 01 JV 20 0001032 ┆          ┆     │\n",
       "│ INDA,BELINA       ┆ JUV  ┆ 2014        ┆ D 01 JV 20 0001029 ┆          ┆     │\n",
       "│ GALVAN,NICCOLO    ┆ JUV  ┆ 2011        ┆ D 01 JV 20 0001029 ┆          ┆     │\n",
       "│ …                 ┆ …    ┆ …           ┆ …                  ┆ …        ┆ …   │\n",
       "│ HILL,JOHN,K       ┆ JUV  ┆ 1989        ┆ D 01 JV 10 9048747 ┆          ┆     │\n",
       "│ MATTEA,JOSHUA     ┆ JUV  ┆ 1989        ┆ D 01 JV 10 9048746 ┆          ┆     │\n",
       "│ ORANTES,EMERSON   ┆ JUV  ┆ 1992        ┆ D 01 JV 10 9048744 ┆          ┆     │\n",
       "│ HERNANDEZ,GUSTAVO ┆ JUV  ┆ 1991        ┆ D 01 JV 10 9048742 ┆          ┆     │\n",
       "└───────────────────┴──────┴─────────────┴────────────────────┴──────────┴─────┘"
      ]
     },
     "execution_count": 21,
     "metadata": {},
     "output_type": "execute_result"
    }
   ],
   "source": [
    "no_bday"
   ]
  },
  {
   "cell_type": "code",
   "execution_count": null,
   "metadata": {},
   "outputs": [],
   "source": []
  }
 ],
 "metadata": {
  "kernelspec": {
   "display_name": "Python 3",
   "language": "python",
   "name": "python3"
  },
  "language_info": {
   "codemirror_mode": {
    "name": "ipython",
    "version": 3
   },
   "file_extension": ".py",
   "mimetype": "text/x-python",
   "name": "python",
   "nbconvert_exporter": "python",
   "pygments_lexer": "ipython3",
   "version": "3.9.6"
  }
 },
 "nbformat": 4,
 "nbformat_minor": 2
}
