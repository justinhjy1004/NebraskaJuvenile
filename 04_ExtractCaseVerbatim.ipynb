{
 "cells": [
  {
   "cell_type": "markdown",
   "metadata": {},
   "source": [
    "### Case Verbatim Extractor\n",
    "*Author: Justin Ho*\n",
    "\n",
    "The more I program, the more I realize that the naming is the most difficult thing to do rings truer and truer as the day goes by. But enough with my complaints! This ipynb takes in the html files from the Case Dockets, and take the contents of the important parts of the case, hence **CaseVerbatim**."
   ]
  },
  {
   "cell_type": "code",
   "execution_count": 1,
   "metadata": {},
   "outputs": [],
   "source": [
    "from bs4 import BeautifulSoup\n",
    "import os\n",
    "import sqlite3\n",
    "\n",
    "## Conncect to database\n",
    "con = sqlite3.connect(os.environ[\"database_name\"])\n",
    "cur = con.cursor()"
   ]
  },
  {
   "cell_type": "code",
   "execution_count": 2,
   "metadata": {},
   "outputs": [],
   "source": [
    "existing_cases = [c[0] for c in cur.execute(\"SELECT CaseID from CaseVerbatim;\").fetchall()]"
   ]
  },
  {
   "cell_type": "code",
   "execution_count": 3,
   "metadata": {},
   "outputs": [],
   "source": [
    "## Check all of the Case Dockets that were scraped\n",
    "files = os.listdir(\"CaseRecords\")"
   ]
  },
  {
   "cell_type": "code",
   "execution_count": null,
   "metadata": {},
   "outputs": [],
   "source": [
    "## iterate through all of the files\n",
    "for file in files:\n",
    "    filename = f\"./CaseRecords/{file}\"\n",
    "\n",
    "    # Read the contents of the HTML file\n",
    "    with open(filename, \"r\", encoding=\"utf-8\") as f:\n",
    "        html_content = f.read()\n",
    "        \n",
    "    # Parse the HTML\n",
    "    soup = BeautifulSoup(html_content, \"html.parser\")\n",
    "    panels = soup.find_all(\"div\", {\"class\": \"panel panel-default\"})\n",
    "\n",
    "    ## Initialize with empty string\n",
    "    case_summary = \"\"\n",
    "    parties = \"\"\n",
    "    offense = \"\"\n",
    "    actions = \"\"\n",
    "\n",
    "    ## Go through each important panel\n",
    "    for panel in panels:\n",
    "\n",
    "        if panel.find(\"h3\").text == \"Case Summary\":\n",
    "            case_summary = panel.find(\"pre\").text\n",
    "\n",
    "        if panel.find(\"h3\").text == \"Parties/Attorneys to the Case\":\n",
    "            parties = panel.find(\"pre\").text\n",
    "\n",
    "        if panel.find(\"h3\").text == \"Offense Information\":\n",
    "            offense = panel.find(\"pre\").text\n",
    "            \n",
    "        if panel.find(\"h3\").text == \"Register of Actions\":\n",
    "            actions = panel.find(\"pre\")\n",
    "\n",
    "\n",
    "    ## For SQLITE purposes\n",
    "    case_id = file.replace(\".html\", \"\")\n",
    "    case_summary = case_summary.replace(\"\\\"\", \"\\'\")\n",
    "    parties = parties.replace(\"\\\"\", \"\\'\")\n",
    "    offense = offense.replace(\"\\\"\", \"\\'\")\n",
    "    actions = str(actions).replace(\"\\\"\", \"\\'\")\n",
    "\n",
    "    if case_id in existing_cases:\n",
    "        \n",
    "        cur.execute(f\"\"\"\n",
    "            UPDATE CaseVerbatim\n",
    "            SET CaseSummary = \\\"{case_summary}\\\",\n",
    "            Parties = \\\"{parties}\\\",\n",
    "            OffenseInformation = \\\"{offense}\\\",\n",
    "            RegisterOfActions = \\\"{actions}\\\"\n",
    "            WHERE CaseID = \\\"{case_id}\\\"\n",
    "        \"\"\")\n",
    "\n",
    "    else:\n",
    "    \n",
    "        ## Insert!\n",
    "        cur.execute(f\"\"\"\n",
    "                    INSERT INTO CaseVerbatim \n",
    "                    (CaseID, CaseSummary, Parties, OffenseInformation, RegisterOfActions) \n",
    "                    VALUES (\\\"{case_id}\\\", \\\"{case_summary}\\\", \\\"{parties}\\\", \\\"{offense}\\\", \\\"{actions}\\\")\n",
    "                \"\"\")\n",
    "    \n",
    "    \n",
    "    con.commit()"
   ]
  }
 ],
 "metadata": {
  "kernelspec": {
   "display_name": "Python 3",
   "language": "python",
   "name": "python3"
  },
  "language_info": {
   "codemirror_mode": {
    "name": "ipython",
    "version": 3
   },
   "file_extension": ".py",
   "mimetype": "text/x-python",
   "name": "python",
   "nbconvert_exporter": "python",
   "pygments_lexer": "ipython3",
   "version": "3.9.6"
  }
 },
 "nbformat": 4,
 "nbformat_minor": 2
}
