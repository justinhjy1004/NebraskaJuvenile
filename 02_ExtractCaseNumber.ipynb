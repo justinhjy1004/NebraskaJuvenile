{
 "cells": [
  {
   "cell_type": "code",
   "execution_count": 1,
   "metadata": {},
   "outputs": [],
   "source": [
    "from bs4 import BeautifulSoup\n",
    "import re\n",
    "import os\n",
    "import sqlite3\n",
    "\n",
    "con = sqlite3.connect(\"JVCase.db\")\n",
    "cur = con.cursor()\n",
    "\n",
    "files = os.listdir(\"CaseSearchAll\")"
   ]
  },
  {
   "cell_type": "code",
   "execution_count": 2,
   "metadata": {},
   "outputs": [],
   "source": [
    "results = []\n",
    "\n",
    "for file in files:\n",
    "    # Replace 'your_file.html' with the actual path to your HTML file\n",
    "    filename = f\"./CaseSearchAll/{file}\"\n",
    "\n",
    "    # Read the contents of the HTML file\n",
    "    with open(filename, \"r\", encoding=\"utf-8\") as f:\n",
    "        html_content = f.read()\n",
    "\n",
    "    # Parse the HTML\n",
    "    soup = BeautifulSoup(html_content, \"html.parser\")\n",
    "\n",
    "    # Find all <td> elements with style=\"white-space: nowrap;\"\n",
    "    tds = soup.find_all(\"td\", style=\"white-space: nowrap;\")\n",
    "\n",
    "    # Extract and print the text for each matching <td>\n",
    "    for td in tds:\n",
    "        # td.stripped_strings yields an iterator of all text segments, stripped of whitespace\n",
    "        items = list(td.stripped_strings)\n",
    "        # Join all these pieces with a space\n",
    "        result = \" \".join(items)\n",
    "        results.append(result)"
   ]
  },
  {
   "cell_type": "code",
   "execution_count": 3,
   "metadata": {},
   "outputs": [],
   "source": [
    "results = [results[i] + results[i + 1] for i in range(0, len(results) - 1, 2)]"
   ]
  },
  {
   "cell_type": "code",
   "execution_count": 4,
   "metadata": {},
   "outputs": [],
   "source": [
    "def extract_case(input_text):\n",
    "\n",
    "    pattern = re.compile(\n",
    "                r'^\\s*'                  # Possible leading space\n",
    "                r'([^()]+)'              # 1) raw name text (could contain commas)\n",
    "                r'\\(\\s*([^)]+)\\s*\\)'     # 2) type\n",
    "                r'(?:.*DOB:\\s*(\\d{4}))?' # 3) optional DOB\n",
    "                r'(C|D) (\\d{2}) JV (\\d{2})\\s*(\\d{7})'\n",
    "            )\n",
    "            \n",
    "    match = pattern.match(input_text)\n",
    "    \n",
    "    if match:\n",
    "        raw_name = match.group(1)\n",
    "        type = match.group(2).strip()\n",
    "        dob = match.group(3)  # could be None if not present\n",
    "        \n",
    "        # Clean up the raw_name by stripping extra commas/spaces\n",
    "        # e.g. \"NDHHS,,\" -> \"NDHHS\"\n",
    "        name = raw_name.strip().strip(\", \")\n",
    "        case = match.group(4) + \" \" + match.group(5) + \" JV \" + match.group(6) + \" \" + match.group(7)\n",
    "\n",
    "        return name, type, dob, case\n"
   ]
  },
  {
   "cell_type": "code",
   "execution_count": 5,
   "metadata": {},
   "outputs": [],
   "source": [
    "extracted = [extract_case(i) for i in results]\n",
    "extracted = [i for i in extracted if i is not None]"
   ]
  },
  {
   "cell_type": "code",
   "execution_count": 7,
   "metadata": {},
   "outputs": [],
   "source": [
    "for result in extracted:\n",
    "\n",
    "    person, relationship, year_of_birth, id = result\n",
    "    person = person.replace(\"\\\"\", \"\\'\")\n",
    "    relationship = relationship.replace(\"\\\"\", \"\\'\")\n",
    "\n",
    "    if year_of_birth is not None:\n",
    "\n",
    "        cur.execute(f\"\"\"\n",
    "                        INSERT INTO CaseBasicInfo \n",
    "                        (Person, Type, YearOfBirth, CaseID) \n",
    "                        VALUES (\\\"{person}\\\", \\\"{relationship}\\\", \\\"{year_of_birth}\\\", \\\"{id}\\\")\n",
    "                    \"\"\")\n",
    "    else:\n",
    "\n",
    "        cur.execute(f\"\"\"\n",
    "                        INSERT INTO CaseBasicInfo \n",
    "                        (Person, Type, CaseID) \n",
    "                        VALUES (\\\"{person}\\\", \\\"{relationship}\\\", \\\"{id}\\\")\n",
    "                    \"\"\")\n",
    "    con.commit()"
   ]
  }
 ],
 "metadata": {
  "kernelspec": {
   "display_name": "Python 3",
   "language": "python",
   "name": "python3"
  },
  "language_info": {
   "codemirror_mode": {
    "name": "ipython",
    "version": 3
   },
   "file_extension": ".py",
   "mimetype": "text/x-python",
   "name": "python",
   "nbconvert_exporter": "python",
   "pygments_lexer": "ipython3",
   "version": "3.9.6"
  },
  "orig_nbformat": 4
 },
 "nbformat": 4,
 "nbformat_minor": 2
}
