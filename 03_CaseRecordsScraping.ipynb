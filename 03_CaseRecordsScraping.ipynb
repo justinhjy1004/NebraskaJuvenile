{
 "cells": [
  {
   "cell_type": "code",
   "execution_count": 1,
   "metadata": {},
   "outputs": [],
   "source": [
    "import polars as pl\n",
    "from selenium import webdriver\n",
    "from selenium.webdriver.common.by import By\n",
    "from selenium.common.exceptions import TimeoutException\n",
    "from multiprocessing.pool import ThreadPool \n",
    "import os\n",
    "import re\n",
    "import random\n",
    "import time \n",
    "\n",
    "county_codes = {\"01\": \"Douglas\", \"02\": \"Lancaster\", \"59\": \"Sarpy\"}\n",
    "\n",
    "def case_info(case_id):\n",
    "\n",
    "    pattern = re.compile('D (\\d{2}) JV (\\d{2})\\s*(\\d{7})')\n",
    "\n",
    "    match = pattern.match(case_id)\n",
    "\n",
    "    if match:\n",
    "        \n",
    "        county = county_codes[match.group(1)]\n",
    "        year = match.group(2)\n",
    "        case_num = match.group(3)\n",
    "\n",
    "        return county, year, case_num\n",
    "\n",
    "def scrape_case(cases, url = os.environ[\"case_url\"]):\n",
    "\n",
    "    cService = webdriver.ChromeService(executable_path=os.environ[\"chromedriver\"])\n",
    "    browser = webdriver.Chrome(service = cService)\n",
    "\n",
    "    for case in cases:\n",
    "\n",
    "        try:\n",
    "            browser.get(url)\n",
    "\n",
    "            browser.find_element(By.ID, \"court_type\").send_keys(\"D\")\n",
    "            browser.find_element(By.ID, \"county_num\").send_keys(case[\"County\"])\n",
    "            browser.find_element(By.ID, \"case_type\").send_keys(\"JV\")\n",
    "            browser.find_element(By.ID, \"case_year\").send_keys(case[\"Year\"])\n",
    "            browser.find_element(By.ID, \"case_id\").send_keys(case[\"CaseNum\"])\n",
    "\n",
    "            browser.find_element(By.ID, \"search\").click()\n",
    "\n",
    "            time.sleep(30)\n",
    "\n",
    "            with open(\"./CaseRecords/\" + case[\"CaseID\"] + '.html', \"w\") as outfile:\n",
    "                    outfile.write(browser.page_source)\n",
    "                    \n",
    "        except TimeoutException:\n",
    "             print(case[\"CaseID\"], \"has problems!\")\n",
    "\n",
    "    browser.close()\n",
    "\n"
   ]
  },
  {
   "cell_type": "code",
   "execution_count": 2,
   "metadata": {},
   "outputs": [],
   "source": [
    "def get_unscraped_cases():\n",
    "    scraped_records = [c.replace(\".html\", \"\") for c in os.listdir(\"CaseRecords\")]\n",
    "\n",
    "    df = pl.read_database_uri(\"SELECT DISTINCT CaseID FROM CaseBasicInfo\", os.environ[\"database\"])\n",
    "\n",
    "    df = df.with_columns(\n",
    "        pl.col(\"CaseID\").map_elements(case_info).alias(\"information\")\n",
    "    ).with_columns(\n",
    "        pl.col(\"information\").map_elements(lambda x: x[0]).alias(\"County\"),\n",
    "        pl.col(\"information\").map_elements(lambda x: x[1]).alias(\"Year\"),\n",
    "        pl.col(\"information\").map_elements(lambda x: x[2]).alias(\"CaseNum\")\n",
    "    ).drop(\"information\")\n",
    "\n",
    "    cases = df.rows(named=True)\n",
    "    cases = [c for c in cases if c[\"CaseID\"] not in scraped_records]\n",
    "\n",
    "    random.shuffle(cases)\n",
    "\n",
    "    return cases   "
   ]
  },
  {
   "cell_type": "code",
   "execution_count": 3,
   "metadata": {},
   "outputs": [
    {
     "name": "stdout",
     "output_type": "stream",
     "text": [
      "224\n"
     ]
    }
   ],
   "source": [
    "cases = get_unscraped_cases()\n",
    "print(len(cases))"
   ]
  },
  {
   "cell_type": "code",
   "execution_count": 4,
   "metadata": {},
   "outputs": [],
   "source": [
    "def partition_list(lst, num_partitions):\n",
    "    # Calculate the approximate size of each part\n",
    "    avg = len(lst) / float(num_partitions)\n",
    "    partitions = []\n",
    "    last = 0.0\n",
    "\n",
    "    while last < len(lst):\n",
    "        partitions.append(lst[int(last):int(last + avg)])\n",
    "        last += avg\n",
    "\n",
    "    return partitions\n"
   ]
  },
  {
   "cell_type": "code",
   "execution_count": 5,
   "metadata": {},
   "outputs": [
    {
     "name": "stdout",
     "output_type": "stream",
     "text": [
      "216\n",
      "209\n",
      "206\n",
      "201\n",
      "196\n",
      "194\n",
      "193\n",
      "188\n",
      "177\n",
      "174\n",
      "170\n",
      "166\n",
      "164\n",
      "163\n",
      "161\n",
      "159\n",
      "156\n",
      "156\n",
      "153\n",
      "150\n",
      "149\n",
      "148\n",
      "146\n",
      "142\n",
      "141\n"
     ]
    },
    {
     "ename": "KeyboardInterrupt",
     "evalue": "",
     "output_type": "error",
     "traceback": [
      "\u001b[0;31m---------------------------------------------------------------------------\u001b[0m",
      "\u001b[0;31mKeyboardInterrupt\u001b[0m                         Traceback (most recent call last)",
      "Cell \u001b[0;32mIn[5], line 11\u001b[0m\n\u001b[1;32m      8\u001b[0m \u001b[38;5;28;01mfor\u001b[39;00m partition \u001b[38;5;129;01min\u001b[39;00m partitions:\n\u001b[1;32m      9\u001b[0m     pool\u001b[38;5;241m.\u001b[39mapply_async(scrape_case, (partition,))\n\u001b[0;32m---> 11\u001b[0m \u001b[43mtime\u001b[49m\u001b[38;5;241;43m.\u001b[39;49m\u001b[43msleep\u001b[49m\u001b[43m(\u001b[49m\u001b[38;5;241;43m1500\u001b[39;49m\u001b[43m)\u001b[49m\n\u001b[1;32m     13\u001b[0m pool\u001b[38;5;241m.\u001b[39mclose()\n\u001b[1;32m     14\u001b[0m pool\u001b[38;5;241m.\u001b[39mjoin()\n",
      "\u001b[0;31mKeyboardInterrupt\u001b[0m: "
     ]
    }
   ],
   "source": [
    "while( len(cases) != 0 ):\n",
    "    pool_size = 8\n",
    "    num_partitions = pool_size\n",
    "\n",
    "    partitions = partition_list(cases, num_partitions)\n",
    "    pool = ThreadPool(pool_size)\n",
    "\n",
    "    for partition in partitions:\n",
    "        pool.apply_async(scrape_case, (partition,))\n",
    "\n",
    "    time.sleep(1500)\n",
    "\n",
    "    pool.close()\n",
    "    pool.join()\n",
    "\n",
    "    cases = get_unscraped_cases()\n",
    "    print(len(cases))\n",
    "  "
   ]
  }
 ],
 "metadata": {
  "kernelspec": {
   "display_name": "Python 3",
   "language": "python",
   "name": "python3"
  },
  "language_info": {
   "codemirror_mode": {
    "name": "ipython",
    "version": 3
   },
   "file_extension": ".py",
   "mimetype": "text/x-python",
   "name": "python",
   "nbconvert_exporter": "python",
   "pygments_lexer": "ipython3",
   "version": "3.9.6"
  }
 },
 "nbformat": 4,
 "nbformat_minor": 2
}
