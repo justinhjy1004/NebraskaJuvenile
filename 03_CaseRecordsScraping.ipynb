{
 "cells": [
  {
   "cell_type": "code",
   "execution_count": 1,
   "metadata": {},
   "outputs": [],
   "source": [
    "import polars as pl\n",
    "from selenium import webdriver\n",
    "from selenium.webdriver.common.by import By\n",
    "from selenium.common.exceptions import TimeoutException, NoSuchElementException\n",
    "from multiprocessing.pool import ThreadPool \n",
    "import time\n",
    "import os\n",
    "import re\n",
    "import random\n",
    "\n",
    "timeout_time = 3600\n",
    "\n",
    "county_codes = {\"01\": \"Douglas\", \"02\": \"Lancaster\", \"59\": \"Sarpy\"}\n",
    "\n",
    "def case_info(case_id):\n",
    "\n",
    "    pattern = re.compile('D (\\d{2}) JV (\\d{2})\\s*(\\d{7})')\n",
    "\n",
    "    match = pattern.match(case_id)\n",
    "\n",
    "    if match:\n",
    "        \n",
    "        county = county_codes[match.group(1)]\n",
    "        year = match.group(2)\n",
    "        case_num = match.group(3)\n",
    "\n",
    "        return county, year, case_num\n",
    "\n",
    "def scrape_case(cases, url = os.environ[\"case_url\"]):\n",
    "\n",
    "    cService = webdriver.ChromeService(executable_path=os.environ[\"chromedriver\"])\n",
    "    browser = webdriver.Chrome(service = cService)\n",
    "    \n",
    "    browser.command_executor._client_config._timeout = timeout_time\n",
    "\n",
    "    for case in cases:\n",
    "\n",
    "        try:\n",
    "            browser.get(url)\n",
    "\n",
    "            browser.find_element(By.ID, \"court_type\").send_keys(\"D\")\n",
    "            browser.find_element(By.ID, \"county_num\").send_keys(case[\"County\"])\n",
    "            browser.find_element(By.ID, \"case_type\").send_keys(\"JV\")\n",
    "            browser.find_element(By.ID, \"case_year\").send_keys(case[\"Year\"])\n",
    "            browser.find_element(By.ID, \"case_id\").send_keys(case[\"CaseNum\"])\n",
    "\n",
    "            browser.find_element(By.ID, \"search\").click()\n",
    "\n",
    "            with open(\"./CaseRecords/\" + case[\"CaseID\"] + '.html', \"w\") as outfile:\n",
    "                    outfile.write(browser.page_source)\n",
    "                    \n",
    "        except NoSuchElementException or TimeoutException:\n",
    "             \n",
    "             time.sleep(60)\n",
    "             \n",
    "             with open(\"./CaseRecords/\" + case[\"CaseID\"] + '.html', \"w\") as outfile:\n",
    "                    outfile.write(browser.page_source)\n",
    "\n",
    "    browser.close()\n",
    "\n"
   ]
  },
  {
   "cell_type": "code",
   "execution_count": 2,
   "metadata": {},
   "outputs": [],
   "source": [
    "## TODO: When scraping, please note what are the cases you want to scrape!\n",
    "def get_unscraped_cases():\n",
    "\n",
    "    scraped_records = [c.replace(\".html\", \"\") for c in os.listdir(\"CaseRecords\")]\n",
    "\n",
    "    ## CHANGE HERE!!!\n",
    "    df = pl.read_database_uri(\"SELECT DISTINCT CaseID FROM CaseBasicInfo\", os.environ[\"database\"]).filter( ~pl.col(\"CaseID\").is_in(scraped_records) )\n",
    "\n",
    "    df = df.with_columns(\n",
    "        pl.col(\"CaseID\").map_elements(case_info).alias(\"information\")\n",
    "    ).with_columns(\n",
    "        pl.col(\"information\").map_elements(lambda x: x[0]).alias(\"County\"),\n",
    "        pl.col(\"information\").map_elements(lambda x: x[1]).alias(\"Year\"),\n",
    "        pl.col(\"information\").map_elements(lambda x: x[2]).alias(\"CaseNum\")\n",
    "    ).drop(\"information\")\n",
    "\n",
    "    cases = df.rows(named=True)\n",
    "    cases = [c for c in cases if c[\"CaseID\"] not in scraped_records]\n",
    "\n",
    "    random.shuffle(cases)\n",
    "\n",
    "    return cases   "
   ]
  },
  {
   "cell_type": "code",
   "execution_count": 3,
   "metadata": {},
   "outputs": [
    {
     "name": "stdout",
     "output_type": "stream",
     "text": [
      "174\n"
     ]
    }
   ],
   "source": [
    "cases = get_unscraped_cases()\n",
    "print(len(cases))"
   ]
  },
  {
   "cell_type": "code",
   "execution_count": 4,
   "metadata": {},
   "outputs": [],
   "source": [
    "def partition_list(lst, num_partitions):\n",
    "    # Calculate the approximate size of each part\n",
    "    avg = len(lst) / float(num_partitions)\n",
    "    partitions = []\n",
    "    last = 0.0\n",
    "\n",
    "    while last < len(lst):\n",
    "        partitions.append(lst[int(last):int(last + avg)])\n",
    "        last += avg\n",
    "\n",
    "    return partitions\n"
   ]
  },
  {
   "cell_type": "code",
   "execution_count": 5,
   "metadata": {},
   "outputs": [
    {
     "ename": "ComputeError",
     "evalue": "ComputeError: The output type of the 'apply' function cannot be determined.\nThe function was never called because 'skip_nulls=True' and all values are null.\nConsider setting 'skip_nulls=False' or setting the 'return_dtype'.",
     "output_type": "error",
     "traceback": [
      "\u001b[0;31m---------------------------------------------------------------------------\u001b[0m",
      "\u001b[0;31mComputeError\u001b[0m                              Traceback (most recent call last)",
      "Cell \u001b[0;32mIn[5], line 14\u001b[0m\n\u001b[1;32m     11\u001b[0m pool\u001b[38;5;241m.\u001b[39mclose()\n\u001b[1;32m     12\u001b[0m pool\u001b[38;5;241m.\u001b[39mjoin()\n\u001b[0;32m---> 14\u001b[0m cases \u001b[38;5;241m=\u001b[39m \u001b[43mget_unscraped_cases\u001b[49m\u001b[43m(\u001b[49m\u001b[43m)\u001b[49m\n\u001b[1;32m     15\u001b[0m \u001b[38;5;28mprint\u001b[39m(\u001b[38;5;28mlen\u001b[39m(cases))\n",
      "Cell \u001b[0;32mIn[2], line 9\u001b[0m, in \u001b[0;36mget_unscraped_cases\u001b[0;34m()\u001b[0m\n\u001b[1;32m      6\u001b[0m \u001b[38;5;66;03m## CHANGE HERE!!!\u001b[39;00m\n\u001b[1;32m      7\u001b[0m df \u001b[38;5;241m=\u001b[39m pl\u001b[38;5;241m.\u001b[39mread_database_uri(\u001b[38;5;124m\"\u001b[39m\u001b[38;5;124mSELECT DISTINCT CaseID FROM CaseBasicInfo\u001b[39m\u001b[38;5;124m\"\u001b[39m, os\u001b[38;5;241m.\u001b[39menviron[\u001b[38;5;124m\"\u001b[39m\u001b[38;5;124mdatabase\u001b[39m\u001b[38;5;124m\"\u001b[39m])\u001b[38;5;241m.\u001b[39mfilter( \u001b[38;5;241m~\u001b[39mpl\u001b[38;5;241m.\u001b[39mcol(\u001b[38;5;124m\"\u001b[39m\u001b[38;5;124mCaseID\u001b[39m\u001b[38;5;124m\"\u001b[39m)\u001b[38;5;241m.\u001b[39mis_in(scraped_records) )\n\u001b[0;32m----> 9\u001b[0m df \u001b[38;5;241m=\u001b[39m \u001b[43mdf\u001b[49m\u001b[38;5;241;43m.\u001b[39;49m\u001b[43mwith_columns\u001b[49m\u001b[43m(\u001b[49m\n\u001b[1;32m     10\u001b[0m \u001b[43m    \u001b[49m\u001b[43mpl\u001b[49m\u001b[38;5;241;43m.\u001b[39;49m\u001b[43mcol\u001b[49m\u001b[43m(\u001b[49m\u001b[38;5;124;43m\"\u001b[39;49m\u001b[38;5;124;43mCaseID\u001b[39;49m\u001b[38;5;124;43m\"\u001b[39;49m\u001b[43m)\u001b[49m\u001b[38;5;241;43m.\u001b[39;49m\u001b[43mmap_elements\u001b[49m\u001b[43m(\u001b[49m\u001b[43mcase_info\u001b[49m\u001b[43m)\u001b[49m\u001b[38;5;241;43m.\u001b[39;49m\u001b[43malias\u001b[49m\u001b[43m(\u001b[49m\u001b[38;5;124;43m\"\u001b[39;49m\u001b[38;5;124;43minformation\u001b[39;49m\u001b[38;5;124;43m\"\u001b[39;49m\u001b[43m)\u001b[49m\n\u001b[1;32m     11\u001b[0m \u001b[43m\u001b[49m\u001b[43m)\u001b[49m\u001b[38;5;241m.\u001b[39mwith_columns(\n\u001b[1;32m     12\u001b[0m     pl\u001b[38;5;241m.\u001b[39mcol(\u001b[38;5;124m\"\u001b[39m\u001b[38;5;124minformation\u001b[39m\u001b[38;5;124m\"\u001b[39m)\u001b[38;5;241m.\u001b[39mmap_elements(\u001b[38;5;28;01mlambda\u001b[39;00m x: x[\u001b[38;5;241m0\u001b[39m])\u001b[38;5;241m.\u001b[39malias(\u001b[38;5;124m\"\u001b[39m\u001b[38;5;124mCounty\u001b[39m\u001b[38;5;124m\"\u001b[39m),\n\u001b[1;32m     13\u001b[0m     pl\u001b[38;5;241m.\u001b[39mcol(\u001b[38;5;124m\"\u001b[39m\u001b[38;5;124minformation\u001b[39m\u001b[38;5;124m\"\u001b[39m)\u001b[38;5;241m.\u001b[39mmap_elements(\u001b[38;5;28;01mlambda\u001b[39;00m x: x[\u001b[38;5;241m1\u001b[39m])\u001b[38;5;241m.\u001b[39malias(\u001b[38;5;124m\"\u001b[39m\u001b[38;5;124mYear\u001b[39m\u001b[38;5;124m\"\u001b[39m),\n\u001b[1;32m     14\u001b[0m     pl\u001b[38;5;241m.\u001b[39mcol(\u001b[38;5;124m\"\u001b[39m\u001b[38;5;124minformation\u001b[39m\u001b[38;5;124m\"\u001b[39m)\u001b[38;5;241m.\u001b[39mmap_elements(\u001b[38;5;28;01mlambda\u001b[39;00m x: x[\u001b[38;5;241m2\u001b[39m])\u001b[38;5;241m.\u001b[39malias(\u001b[38;5;124m\"\u001b[39m\u001b[38;5;124mCaseNum\u001b[39m\u001b[38;5;124m\"\u001b[39m)\n\u001b[1;32m     15\u001b[0m )\u001b[38;5;241m.\u001b[39mdrop(\u001b[38;5;124m\"\u001b[39m\u001b[38;5;124minformation\u001b[39m\u001b[38;5;124m\"\u001b[39m)\n\u001b[1;32m     17\u001b[0m cases \u001b[38;5;241m=\u001b[39m df\u001b[38;5;241m.\u001b[39mrows(named\u001b[38;5;241m=\u001b[39m\u001b[38;5;28;01mTrue\u001b[39;00m)\n\u001b[1;32m     18\u001b[0m cases \u001b[38;5;241m=\u001b[39m [c \u001b[38;5;28;01mfor\u001b[39;00m c \u001b[38;5;129;01min\u001b[39;00m cases \u001b[38;5;28;01mif\u001b[39;00m c[\u001b[38;5;124m\"\u001b[39m\u001b[38;5;124mCaseID\u001b[39m\u001b[38;5;124m\"\u001b[39m] \u001b[38;5;129;01mnot\u001b[39;00m \u001b[38;5;129;01min\u001b[39;00m scraped_records]\n",
      "File \u001b[0;32m~/Library/Python/3.9/lib/python/site-packages/polars/dataframe/frame.py:8027\u001b[0m, in \u001b[0;36mDataFrame.with_columns\u001b[0;34m(self, *exprs, **named_exprs)\u001b[0m\n\u001b[1;32m   7879\u001b[0m \u001b[38;5;28;01mdef\u001b[39;00m \u001b[38;5;21mwith_columns\u001b[39m(\n\u001b[1;32m   7880\u001b[0m     \u001b[38;5;28mself\u001b[39m,\n\u001b[1;32m   7881\u001b[0m     \u001b[38;5;241m*\u001b[39mexprs: IntoExpr \u001b[38;5;241m|\u001b[39m Iterable[IntoExpr],\n\u001b[1;32m   7882\u001b[0m     \u001b[38;5;241m*\u001b[39m\u001b[38;5;241m*\u001b[39mnamed_exprs: IntoExpr,\n\u001b[1;32m   7883\u001b[0m ) \u001b[38;5;241m-\u001b[39m\u001b[38;5;241m>\u001b[39m DataFrame:\n\u001b[1;32m   7884\u001b[0m \u001b[38;5;250m    \u001b[39m\u001b[38;5;124;03m\"\"\"\u001b[39;00m\n\u001b[1;32m   7885\u001b[0m \u001b[38;5;124;03m    Add columns to this DataFrame.\u001b[39;00m\n\u001b[1;32m   7886\u001b[0m \n\u001b[0;32m   (...)\u001b[0m\n\u001b[1;32m   8025\u001b[0m \n\u001b[1;32m   8026\u001b[0m \u001b[38;5;124;03m    \"\"\"\u001b[39;00m\n\u001b[0;32m-> 8027\u001b[0m     \u001b[38;5;28;01mreturn\u001b[39;00m \u001b[38;5;28;43mself\u001b[39;49m\u001b[38;5;241;43m.\u001b[39;49m\u001b[43mlazy\u001b[49m\u001b[43m(\u001b[49m\u001b[43m)\u001b[49m\u001b[38;5;241;43m.\u001b[39;49m\u001b[43mwith_columns\u001b[49m\u001b[43m(\u001b[49m\u001b[38;5;241;43m*\u001b[39;49m\u001b[43mexprs\u001b[49m\u001b[43m,\u001b[49m\u001b[43m \u001b[49m\u001b[38;5;241;43m*\u001b[39;49m\u001b[38;5;241;43m*\u001b[39;49m\u001b[43mnamed_exprs\u001b[49m\u001b[43m)\u001b[49m\u001b[38;5;241;43m.\u001b[39;49m\u001b[43mcollect\u001b[49m\u001b[43m(\u001b[49m\u001b[43m_eager\u001b[49m\u001b[38;5;241;43m=\u001b[39;49m\u001b[38;5;28;43;01mTrue\u001b[39;49;00m\u001b[43m)\u001b[49m\n",
      "File \u001b[0;32m~/Library/Python/3.9/lib/python/site-packages/polars/utils/deprecation.py:100\u001b[0m, in \u001b[0;36mdeprecate_renamed_parameter.<locals>.decorate.<locals>.wrapper\u001b[0;34m(*args, **kwargs)\u001b[0m\n\u001b[1;32m     95\u001b[0m \u001b[38;5;129m@wraps\u001b[39m(function)\n\u001b[1;32m     96\u001b[0m \u001b[38;5;28;01mdef\u001b[39;00m \u001b[38;5;21mwrapper\u001b[39m(\u001b[38;5;241m*\u001b[39margs: P\u001b[38;5;241m.\u001b[39margs, \u001b[38;5;241m*\u001b[39m\u001b[38;5;241m*\u001b[39mkwargs: P\u001b[38;5;241m.\u001b[39mkwargs) \u001b[38;5;241m-\u001b[39m\u001b[38;5;241m>\u001b[39m T:\n\u001b[1;32m     97\u001b[0m     _rename_keyword_argument(\n\u001b[1;32m     98\u001b[0m         old_name, new_name, kwargs, function\u001b[38;5;241m.\u001b[39m\u001b[38;5;18m__name__\u001b[39m, version\n\u001b[1;32m     99\u001b[0m     )\n\u001b[0;32m--> 100\u001b[0m     \u001b[38;5;28;01mreturn\u001b[39;00m \u001b[43mfunction\u001b[49m\u001b[43m(\u001b[49m\u001b[38;5;241;43m*\u001b[39;49m\u001b[43margs\u001b[49m\u001b[43m,\u001b[49m\u001b[43m \u001b[49m\u001b[38;5;241;43m*\u001b[39;49m\u001b[38;5;241;43m*\u001b[39;49m\u001b[43mkwargs\u001b[49m\u001b[43m)\u001b[49m\n",
      "File \u001b[0;32m~/Library/Python/3.9/lib/python/site-packages/polars/lazyframe/frame.py:1788\u001b[0m, in \u001b[0;36mLazyFrame.collect\u001b[0;34m(self, type_coercion, predicate_pushdown, projection_pushdown, simplify_expression, slice_pushdown, comm_subplan_elim, comm_subexpr_elim, no_optimization, streaming, _eager)\u001b[0m\n\u001b[1;32m   1775\u001b[0m     comm_subplan_elim \u001b[38;5;241m=\u001b[39m \u001b[38;5;28;01mFalse\u001b[39;00m\n\u001b[1;32m   1777\u001b[0m ldf \u001b[38;5;241m=\u001b[39m \u001b[38;5;28mself\u001b[39m\u001b[38;5;241m.\u001b[39m_ldf\u001b[38;5;241m.\u001b[39moptimization_toggle(\n\u001b[1;32m   1778\u001b[0m     type_coercion,\n\u001b[1;32m   1779\u001b[0m     predicate_pushdown,\n\u001b[0;32m   (...)\u001b[0m\n\u001b[1;32m   1786\u001b[0m     _eager,\n\u001b[1;32m   1787\u001b[0m )\n\u001b[0;32m-> 1788\u001b[0m \u001b[38;5;28;01mreturn\u001b[39;00m wrap_df(\u001b[43mldf\u001b[49m\u001b[38;5;241;43m.\u001b[39;49m\u001b[43mcollect\u001b[49m\u001b[43m(\u001b[49m\u001b[43m)\u001b[49m)\n",
      "\u001b[0;31mComputeError\u001b[0m: ComputeError: The output type of the 'apply' function cannot be determined.\nThe function was never called because 'skip_nulls=True' and all values are null.\nConsider setting 'skip_nulls=False' or setting the 'return_dtype'."
     ]
    }
   ],
   "source": [
    "while( len(cases) != 0 ):\n",
    "    pool_size = 8\n",
    "    num_partitions = pool_size\n",
    "\n",
    "    partitions = partition_list(cases, num_partitions)\n",
    "    pool = ThreadPool(pool_size)\n",
    "\n",
    "    for partition in partitions:\n",
    "        pool.apply_async(scrape_case, (partition,))\n",
    "\n",
    "    pool.close()\n",
    "    pool.join()\n",
    "\n",
    "    cases = get_unscraped_cases()\n",
    "    print(len(cases))\n",
    "  "
   ]
  },
  {
   "cell_type": "code",
   "execution_count": null,
   "metadata": {},
   "outputs": [],
   "source": []
  }
 ],
 "metadata": {
  "kernelspec": {
   "display_name": "Python 3",
   "language": "python",
   "name": "python3"
  },
  "language_info": {
   "codemirror_mode": {
    "name": "ipython",
    "version": 3
   },
   "file_extension": ".py",
   "mimetype": "text/x-python",
   "name": "python",
   "nbconvert_exporter": "python",
   "pygments_lexer": "ipython3",
   "version": "3.9.6"
  }
 },
 "nbformat": 4,
 "nbformat_minor": 2
}
