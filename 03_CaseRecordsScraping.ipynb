{
 "cells": [
  {
   "cell_type": "code",
   "execution_count": 1,
   "metadata": {},
   "outputs": [],
   "source": [
    "import polars as pl\n",
    "from selenium import webdriver\n",
    "from selenium.webdriver.common.by import By\n",
    "from selenium.common.exceptions import TimeoutException, NoSuchElementException\n",
    "from multiprocessing.pool import ThreadPool \n",
    "import time\n",
    "import os\n",
    "import re\n",
    "import random\n",
    "\n",
    "timeout_time = 3600\n",
    "\n",
    "county_codes = {\"01\": \"Douglas\", \"02\": \"Lancaster\", \"59\": \"Sarpy\"}\n",
    "\n",
    "def case_info(case_id):\n",
    "\n",
    "    pattern = re.compile('D (\\d{2}) JV (\\d{2})\\s*(\\d{7})')\n",
    "\n",
    "    match = pattern.match(case_id)\n",
    "\n",
    "    if match:\n",
    "        \n",
    "        county = county_codes[match.group(1)]\n",
    "        year = match.group(2)\n",
    "        case_num = match.group(3)\n",
    "\n",
    "        return county, year, case_num\n",
    "\n",
    "def scrape_case(cases, url = os.environ[\"case_url\"]):\n",
    "\n",
    "    cService = webdriver.ChromeService(executable_path=os.environ[\"chromedriver\"])\n",
    "    browser = webdriver.Chrome(service = cService)\n",
    "    \n",
    "    browser.command_executor._client_config._timeout = timeout_time\n",
    "\n",
    "    for case in cases:\n",
    "\n",
    "        try:\n",
    "            browser.get(url)\n",
    "\n",
    "            browser.find_element(By.ID, \"court_type\").send_keys(\"D\")\n",
    "            browser.find_element(By.ID, \"county_num\").send_keys(case[\"County\"])\n",
    "            browser.find_element(By.ID, \"case_type\").send_keys(\"JV\")\n",
    "            browser.find_element(By.ID, \"case_year\").send_keys(case[\"Year\"])\n",
    "            browser.find_element(By.ID, \"case_id\").send_keys(case[\"CaseNum\"])\n",
    "\n",
    "            browser.find_element(By.ID, \"search\").click()\n",
    "\n",
    "            with open(\"./CaseRecords/\" + case[\"CaseID\"] + '.html', \"w\") as outfile:\n",
    "                    outfile.write(browser.page_source)\n",
    "                    \n",
    "        except NoSuchElementException or TimeoutException:\n",
    "             \n",
    "             time.sleep(60)\n",
    "             \n",
    "             with open(\"./CaseRecords/\" + case[\"CaseID\"] + '.html', \"w\") as outfile:\n",
    "                    outfile.write(browser.page_source)\n",
    "\n",
    "    browser.close()\n",
    "\n"
   ]
  },
  {
   "cell_type": "code",
   "execution_count": 2,
   "metadata": {},
   "outputs": [],
   "source": [
    "## TODO: When scraping, please note what are the cases you want to scrape!\n",
    "def get_unscraped_cases():\n",
    "\n",
    "    scraped_records = [c.replace(\".html\", \"\") for c in os.listdir(\"CaseRecords\")]\n",
    "\n",
    "    ## CHANGE HERE!!!\n",
    "    df = pl.read_database_uri(\"SELECT DISTINCT CaseID FROM CaseVerbatim WHERE CaseSummary = \\'\\'\", os.environ[\"database\"])\n",
    "\n",
    "    df = df.with_columns(\n",
    "        pl.col(\"CaseID\").map_elements(case_info).alias(\"information\")\n",
    "    ).with_columns(\n",
    "        pl.col(\"information\").map_elements(lambda x: x[0]).alias(\"County\"),\n",
    "        pl.col(\"information\").map_elements(lambda x: x[1]).alias(\"Year\"),\n",
    "        pl.col(\"information\").map_elements(lambda x: x[2]).alias(\"CaseNum\")\n",
    "    ).drop(\"information\")\n",
    "\n",
    "    cases = df.rows(named=True)\n",
    "    cases = [c for c in cases if c[\"CaseID\"] not in scraped_records]\n",
    "\n",
    "    random.shuffle(cases)\n",
    "\n",
    "    return cases   "
   ]
  },
  {
   "cell_type": "code",
   "execution_count": 3,
   "metadata": {},
   "outputs": [
    {
     "name": "stdout",
     "output_type": "stream",
     "text": [
      "8\n"
     ]
    }
   ],
   "source": [
    "cases = get_unscraped_cases()\n",
    "print(len(cases))"
   ]
  },
  {
   "cell_type": "code",
   "execution_count": 4,
   "metadata": {},
   "outputs": [],
   "source": [
    "def partition_list(lst, num_partitions):\n",
    "    # Calculate the approximate size of each part\n",
    "    avg = len(lst) / float(num_partitions)\n",
    "    partitions = []\n",
    "    last = 0.0\n",
    "\n",
    "    while last < len(lst):\n",
    "        partitions.append(lst[int(last):int(last + avg)])\n",
    "        last += avg\n",
    "\n",
    "    return partitions\n"
   ]
  },
  {
   "cell_type": "code",
   "execution_count": 5,
   "metadata": {},
   "outputs": [
    {
     "name": "stdout",
     "output_type": "stream",
     "text": [
      "0\n"
     ]
    }
   ],
   "source": [
    "while( len(cases) != 0 ):\n",
    "    pool_size = 8\n",
    "    num_partitions = pool_size\n",
    "\n",
    "    partitions = partition_list(cases, num_partitions)\n",
    "    pool = ThreadPool(pool_size)\n",
    "\n",
    "    for partition in partitions:\n",
    "        pool.apply_async(scrape_case, (partition,))\n",
    "\n",
    "    pool.close()\n",
    "    pool.join()\n",
    "\n",
    "    cases = get_unscraped_cases()\n",
    "    print(len(cases))\n",
    "  "
   ]
  }
 ],
 "metadata": {
  "kernelspec": {
   "display_name": "Python 3",
   "language": "python",
   "name": "python3"
  },
  "language_info": {
   "codemirror_mode": {
    "name": "ipython",
    "version": 3
   },
   "file_extension": ".py",
   "mimetype": "text/x-python",
   "name": "python",
   "nbconvert_exporter": "python",
   "pygments_lexer": "ipython3",
   "version": "3.9.6"
  }
 },
 "nbformat": 4,
 "nbformat_minor": 2
}
